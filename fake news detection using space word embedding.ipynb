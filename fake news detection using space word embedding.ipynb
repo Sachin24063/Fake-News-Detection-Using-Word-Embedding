{
 "cells": [
  {
   "cell_type": "code",
   "execution_count": 22,
   "id": "26b12333",
   "metadata": {},
   "outputs": [],
   "source": [
    "import pandas as pd\n",
    "import spacy"
   ]
  },
  {
   "cell_type": "code",
   "execution_count": 23,
   "id": "c960ef61",
   "metadata": {},
   "outputs": [],
   "source": [
    "fake = pd.read_csv(\"Fake.csv\")\n",
    "true = pd.read_csv(\"True.csv\")"
   ]
  },
  {
   "cell_type": "code",
   "execution_count": 24,
   "id": "6830b2d3",
   "metadata": {},
   "outputs": [
    {
     "data": {
      "text/plain": [
       "(23481, 4)"
      ]
     },
     "execution_count": 24,
     "metadata": {},
     "output_type": "execute_result"
    }
   ],
   "source": [
    "fake.shape"
   ]
  },
  {
   "cell_type": "code",
   "execution_count": 25,
   "id": "8793629e",
   "metadata": {},
   "outputs": [
    {
     "data": {
      "text/plain": [
       "(21417, 4)"
      ]
     },
     "execution_count": 25,
     "metadata": {},
     "output_type": "execute_result"
    }
   ],
   "source": [
    "true.shape"
   ]
  },
  {
   "cell_type": "code",
   "execution_count": 26,
   "id": "c69559db",
   "metadata": {},
   "outputs": [
    {
     "data": {
      "text/html": [
       "<div>\n",
       "<style scoped>\n",
       "    .dataframe tbody tr th:only-of-type {\n",
       "        vertical-align: middle;\n",
       "    }\n",
       "\n",
       "    .dataframe tbody tr th {\n",
       "        vertical-align: top;\n",
       "    }\n",
       "\n",
       "    .dataframe thead th {\n",
       "        text-align: right;\n",
       "    }\n",
       "</style>\n",
       "<table border=\"1\" class=\"dataframe\">\n",
       "  <thead>\n",
       "    <tr style=\"text-align: right;\">\n",
       "      <th></th>\n",
       "      <th>title</th>\n",
       "      <th>text</th>\n",
       "      <th>subject</th>\n",
       "      <th>date</th>\n",
       "    </tr>\n",
       "  </thead>\n",
       "  <tbody>\n",
       "    <tr>\n",
       "      <th>0</th>\n",
       "      <td>Donald Trump Sends Out Embarrassing New Year’...</td>\n",
       "      <td>Donald Trump just couldn t wish all Americans ...</td>\n",
       "      <td>News</td>\n",
       "      <td>December 31, 2017</td>\n",
       "    </tr>\n",
       "    <tr>\n",
       "      <th>1</th>\n",
       "      <td>Drunk Bragging Trump Staffer Started Russian ...</td>\n",
       "      <td>House Intelligence Committee Chairman Devin Nu...</td>\n",
       "      <td>News</td>\n",
       "      <td>December 31, 2017</td>\n",
       "    </tr>\n",
       "    <tr>\n",
       "      <th>2</th>\n",
       "      <td>Sheriff David Clarke Becomes An Internet Joke...</td>\n",
       "      <td>On Friday, it was revealed that former Milwauk...</td>\n",
       "      <td>News</td>\n",
       "      <td>December 30, 2017</td>\n",
       "    </tr>\n",
       "    <tr>\n",
       "      <th>3</th>\n",
       "      <td>Trump Is So Obsessed He Even Has Obama’s Name...</td>\n",
       "      <td>On Christmas day, Donald Trump announced that ...</td>\n",
       "      <td>News</td>\n",
       "      <td>December 29, 2017</td>\n",
       "    </tr>\n",
       "    <tr>\n",
       "      <th>4</th>\n",
       "      <td>Pope Francis Just Called Out Donald Trump Dur...</td>\n",
       "      <td>Pope Francis used his annual Christmas Day mes...</td>\n",
       "      <td>News</td>\n",
       "      <td>December 25, 2017</td>\n",
       "    </tr>\n",
       "  </tbody>\n",
       "</table>\n",
       "</div>"
      ],
      "text/plain": [
       "                                               title  \\\n",
       "0   Donald Trump Sends Out Embarrassing New Year’...   \n",
       "1   Drunk Bragging Trump Staffer Started Russian ...   \n",
       "2   Sheriff David Clarke Becomes An Internet Joke...   \n",
       "3   Trump Is So Obsessed He Even Has Obama’s Name...   \n",
       "4   Pope Francis Just Called Out Donald Trump Dur...   \n",
       "\n",
       "                                                text subject  \\\n",
       "0  Donald Trump just couldn t wish all Americans ...    News   \n",
       "1  House Intelligence Committee Chairman Devin Nu...    News   \n",
       "2  On Friday, it was revealed that former Milwauk...    News   \n",
       "3  On Christmas day, Donald Trump announced that ...    News   \n",
       "4  Pope Francis used his annual Christmas Day mes...    News   \n",
       "\n",
       "                date  \n",
       "0  December 31, 2017  \n",
       "1  December 31, 2017  \n",
       "2  December 30, 2017  \n",
       "3  December 29, 2017  \n",
       "4  December 25, 2017  "
      ]
     },
     "execution_count": 26,
     "metadata": {},
     "output_type": "execute_result"
    }
   ],
   "source": [
    "fake.head()"
   ]
  },
  {
   "cell_type": "code",
   "execution_count": 27,
   "id": "acb83d40",
   "metadata": {},
   "outputs": [
    {
     "data": {
      "text/html": [
       "<div>\n",
       "<style scoped>\n",
       "    .dataframe tbody tr th:only-of-type {\n",
       "        vertical-align: middle;\n",
       "    }\n",
       "\n",
       "    .dataframe tbody tr th {\n",
       "        vertical-align: top;\n",
       "    }\n",
       "\n",
       "    .dataframe thead th {\n",
       "        text-align: right;\n",
       "    }\n",
       "</style>\n",
       "<table border=\"1\" class=\"dataframe\">\n",
       "  <thead>\n",
       "    <tr style=\"text-align: right;\">\n",
       "      <th></th>\n",
       "      <th>title</th>\n",
       "      <th>text</th>\n",
       "      <th>subject</th>\n",
       "      <th>date</th>\n",
       "    </tr>\n",
       "  </thead>\n",
       "  <tbody>\n",
       "    <tr>\n",
       "      <th>0</th>\n",
       "      <td>As U.S. budget fight looms, Republicans flip t...</td>\n",
       "      <td>WASHINGTON (Reuters) - The head of a conservat...</td>\n",
       "      <td>politicsNews</td>\n",
       "      <td>December 31, 2017</td>\n",
       "    </tr>\n",
       "    <tr>\n",
       "      <th>1</th>\n",
       "      <td>U.S. military to accept transgender recruits o...</td>\n",
       "      <td>WASHINGTON (Reuters) - Transgender people will...</td>\n",
       "      <td>politicsNews</td>\n",
       "      <td>December 29, 2017</td>\n",
       "    </tr>\n",
       "    <tr>\n",
       "      <th>2</th>\n",
       "      <td>Senior U.S. Republican senator: 'Let Mr. Muell...</td>\n",
       "      <td>WASHINGTON (Reuters) - The special counsel inv...</td>\n",
       "      <td>politicsNews</td>\n",
       "      <td>December 31, 2017</td>\n",
       "    </tr>\n",
       "    <tr>\n",
       "      <th>3</th>\n",
       "      <td>FBI Russia probe helped by Australian diplomat...</td>\n",
       "      <td>WASHINGTON (Reuters) - Trump campaign adviser ...</td>\n",
       "      <td>politicsNews</td>\n",
       "      <td>December 30, 2017</td>\n",
       "    </tr>\n",
       "    <tr>\n",
       "      <th>4</th>\n",
       "      <td>Trump wants Postal Service to charge 'much mor...</td>\n",
       "      <td>SEATTLE/WASHINGTON (Reuters) - President Donal...</td>\n",
       "      <td>politicsNews</td>\n",
       "      <td>December 29, 2017</td>\n",
       "    </tr>\n",
       "  </tbody>\n",
       "</table>\n",
       "</div>"
      ],
      "text/plain": [
       "                                               title  \\\n",
       "0  As U.S. budget fight looms, Republicans flip t...   \n",
       "1  U.S. military to accept transgender recruits o...   \n",
       "2  Senior U.S. Republican senator: 'Let Mr. Muell...   \n",
       "3  FBI Russia probe helped by Australian diplomat...   \n",
       "4  Trump wants Postal Service to charge 'much mor...   \n",
       "\n",
       "                                                text       subject  \\\n",
       "0  WASHINGTON (Reuters) - The head of a conservat...  politicsNews   \n",
       "1  WASHINGTON (Reuters) - Transgender people will...  politicsNews   \n",
       "2  WASHINGTON (Reuters) - The special counsel inv...  politicsNews   \n",
       "3  WASHINGTON (Reuters) - Trump campaign adviser ...  politicsNews   \n",
       "4  SEATTLE/WASHINGTON (Reuters) - President Donal...  politicsNews   \n",
       "\n",
       "                 date  \n",
       "0  December 31, 2017   \n",
       "1  December 29, 2017   \n",
       "2  December 31, 2017   \n",
       "3  December 30, 2017   \n",
       "4  December 29, 2017   "
      ]
     },
     "execution_count": 27,
     "metadata": {},
     "output_type": "execute_result"
    }
   ],
   "source": [
    "true.head()"
   ]
  },
  {
   "cell_type": "code",
   "execution_count": 28,
   "id": "6ebf6d57",
   "metadata": {},
   "outputs": [],
   "source": [
    "fake['lable'] = 0\n",
    "true['lable'] = 1"
   ]
  },
  {
   "cell_type": "code",
   "execution_count": 29,
   "id": "4a9d7eb6",
   "metadata": {},
   "outputs": [],
   "source": [
    "df = pd.merge(fake,true,how='outer')"
   ]
  },
  {
   "cell_type": "code",
   "execution_count": 30,
   "id": "e9ca3661",
   "metadata": {},
   "outputs": [
    {
     "data": {
      "text/html": [
       "<div>\n",
       "<style scoped>\n",
       "    .dataframe tbody tr th:only-of-type {\n",
       "        vertical-align: middle;\n",
       "    }\n",
       "\n",
       "    .dataframe tbody tr th {\n",
       "        vertical-align: top;\n",
       "    }\n",
       "\n",
       "    .dataframe thead th {\n",
       "        text-align: right;\n",
       "    }\n",
       "</style>\n",
       "<table border=\"1\" class=\"dataframe\">\n",
       "  <thead>\n",
       "    <tr style=\"text-align: right;\">\n",
       "      <th></th>\n",
       "      <th>title</th>\n",
       "      <th>text</th>\n",
       "      <th>subject</th>\n",
       "      <th>date</th>\n",
       "      <th>lable</th>\n",
       "    </tr>\n",
       "  </thead>\n",
       "  <tbody>\n",
       "    <tr>\n",
       "      <th>27063</th>\n",
       "      <td>Republican congressional candidate in Montana ...</td>\n",
       "      <td>(Reuters) - Montana Republican congressional c...</td>\n",
       "      <td>politicsNews</td>\n",
       "      <td>May 25, 2017</td>\n",
       "      <td>1</td>\n",
       "    </tr>\n",
       "    <tr>\n",
       "      <th>8868</th>\n",
       "      <td>BUSTED: Guess What The Bundy Militia Was Doin...</td>\n",
       "      <td>Oregon Public Broadcasting just busted the Bun...</td>\n",
       "      <td>News</td>\n",
       "      <td>January 9, 2016</td>\n",
       "      <td>0</td>\n",
       "    </tr>\n",
       "    <tr>\n",
       "      <th>15898</th>\n",
       "      <td>THE DOJ TOOK $7 MILLION TAXPAYER DOLLARS AND S...</td>\n",
       "      <td>The DOJ is reporting that they basically took ...</td>\n",
       "      <td>Government News</td>\n",
       "      <td>Dec 5, 2017</td>\n",
       "      <td>0</td>\n",
       "    </tr>\n",
       "    <tr>\n",
       "      <th>35691</th>\n",
       "      <td>Brazil's Temer to leave hospital, return to Br...</td>\n",
       "      <td>BRASILIA (Reuters) - Brazilian President Miche...</td>\n",
       "      <td>worldnews</td>\n",
       "      <td>December 15, 2017</td>\n",
       "      <td>1</td>\n",
       "    </tr>\n",
       "    <tr>\n",
       "      <th>29484</th>\n",
       "      <td>White House says looks to reschedule meeting w...</td>\n",
       "      <td>PHILADELPHIA (Reuters) - The White House said ...</td>\n",
       "      <td>politicsNews</td>\n",
       "      <td>January 26, 2017</td>\n",
       "      <td>1</td>\n",
       "    </tr>\n",
       "  </tbody>\n",
       "</table>\n",
       "</div>"
      ],
      "text/plain": [
       "                                                   title  \\\n",
       "27063  Republican congressional candidate in Montana ...   \n",
       "8868    BUSTED: Guess What The Bundy Militia Was Doin...   \n",
       "15898  THE DOJ TOOK $7 MILLION TAXPAYER DOLLARS AND S...   \n",
       "35691  Brazil's Temer to leave hospital, return to Br...   \n",
       "29484  White House says looks to reschedule meeting w...   \n",
       "\n",
       "                                                    text          subject  \\\n",
       "27063  (Reuters) - Montana Republican congressional c...     politicsNews   \n",
       "8868   Oregon Public Broadcasting just busted the Bun...             News   \n",
       "15898  The DOJ is reporting that they basically took ...  Government News   \n",
       "35691  BRASILIA (Reuters) - Brazilian President Miche...        worldnews   \n",
       "29484  PHILADELPHIA (Reuters) - The White House said ...     politicsNews   \n",
       "\n",
       "                     date  lable  \n",
       "27063       May 25, 2017       1  \n",
       "8868      January 9, 2016      0  \n",
       "15898         Dec 5, 2017      0  \n",
       "35691  December 15, 2017       1  \n",
       "29484   January 26, 2017       1  "
      ]
     },
     "execution_count": 30,
     "metadata": {},
     "output_type": "execute_result"
    }
   ],
   "source": [
    "df.sample(5)"
   ]
  },
  {
   "cell_type": "code",
   "execution_count": 31,
   "id": "3ee67347",
   "metadata": {},
   "outputs": [
    {
     "data": {
      "text/plain": [
       "(44898, 5)"
      ]
     },
     "execution_count": 31,
     "metadata": {},
     "output_type": "execute_result"
    }
   ],
   "source": [
    "df.shape"
   ]
  },
  {
   "cell_type": "code",
   "execution_count": 32,
   "id": "fb3bb433",
   "metadata": {},
   "outputs": [],
   "source": [
    "df = df.sample(10000,random_state=10,)"
   ]
  },
  {
   "cell_type": "code",
   "execution_count": 33,
   "id": "42579abb",
   "metadata": {},
   "outputs": [],
   "source": [
    "df.drop(df[['title','subject','date']],axis='columns',inplace=True)"
   ]
  },
  {
   "cell_type": "code",
   "execution_count": 34,
   "id": "7d8ff449",
   "metadata": {},
   "outputs": [
    {
     "data": {
      "text/plain": [
       "(10000, 2)"
      ]
     },
     "execution_count": 34,
     "metadata": {},
     "output_type": "execute_result"
    }
   ],
   "source": [
    "df.shape"
   ]
  },
  {
   "cell_type": "code",
   "execution_count": 35,
   "id": "6b996742",
   "metadata": {},
   "outputs": [
    {
     "data": {
      "text/html": [
       "<div>\n",
       "<style scoped>\n",
       "    .dataframe tbody tr th:only-of-type {\n",
       "        vertical-align: middle;\n",
       "    }\n",
       "\n",
       "    .dataframe tbody tr th {\n",
       "        vertical-align: top;\n",
       "    }\n",
       "\n",
       "    .dataframe thead th {\n",
       "        text-align: right;\n",
       "    }\n",
       "</style>\n",
       "<table border=\"1\" class=\"dataframe\">\n",
       "  <thead>\n",
       "    <tr style=\"text-align: right;\">\n",
       "      <th></th>\n",
       "      <th>text</th>\n",
       "      <th>lable</th>\n",
       "    </tr>\n",
       "  </thead>\n",
       "  <tbody>\n",
       "    <tr>\n",
       "      <th>3040</th>\n",
       "      <td>Democrats stood up for the American people but...</td>\n",
       "      <td>0</td>\n",
       "    </tr>\n",
       "    <tr>\n",
       "      <th>41612</th>\n",
       "      <td>BEIRUT (Reuters) - The Syrian military has cle...</td>\n",
       "      <td>1</td>\n",
       "    </tr>\n",
       "    <tr>\n",
       "      <th>6040</th>\n",
       "      <td>Republican House Speaker Paul Ryan has been ge...</td>\n",
       "      <td>0</td>\n",
       "    </tr>\n",
       "    <tr>\n",
       "      <th>30742</th>\n",
       "      <td>WASHINGTON (Reuters) - U.S. House Democratic L...</td>\n",
       "      <td>1</td>\n",
       "    </tr>\n",
       "    <tr>\n",
       "      <th>19492</th>\n",
       "      <td>The Michigan Court of Appeals rejected Green P...</td>\n",
       "      <td>0</td>\n",
       "    </tr>\n",
       "  </tbody>\n",
       "</table>\n",
       "</div>"
      ],
      "text/plain": [
       "                                                    text  lable\n",
       "3040   Democrats stood up for the American people but...      0\n",
       "41612  BEIRUT (Reuters) - The Syrian military has cle...      1\n",
       "6040   Republican House Speaker Paul Ryan has been ge...      0\n",
       "30742  WASHINGTON (Reuters) - U.S. House Democratic L...      1\n",
       "19492  The Michigan Court of Appeals rejected Green P...      0"
      ]
     },
     "execution_count": 35,
     "metadata": {},
     "output_type": "execute_result"
    }
   ],
   "source": [
    "df.head()"
   ]
  },
  {
   "cell_type": "code",
   "execution_count": 36,
   "id": "c99182b2",
   "metadata": {},
   "outputs": [
    {
     "data": {
      "text/plain": [
       "0    5212\n",
       "1    4788\n",
       "Name: lable, dtype: int64"
      ]
     },
     "execution_count": 36,
     "metadata": {},
     "output_type": "execute_result"
    }
   ],
   "source": [
    "df.lable.value_counts()"
   ]
  },
  {
   "cell_type": "code",
   "execution_count": 37,
   "id": "dc68aada",
   "metadata": {},
   "outputs": [
    {
     "data": {
      "text/plain": [
       "<AxesSubplot:xlabel='lable', ylabel='count'>"
      ]
     },
     "execution_count": 37,
     "metadata": {},
     "output_type": "execute_result"
    },
    {
     "data": {
      "image/png": "[encoded data removed]",
      "text/plain": [
       "<Figure size 432x288 with 1 Axes>"
      ]
     },
     "metadata": {
      "needs_background": "light"
     },
     "output_type": "display_data"
    }
   ],
   "source": [
    "import seaborn as sns\n",
    "sns.countplot(x='lable',data=df)"
   ]
  },
  {
   "cell_type": "code",
   "execution_count": 38,
   "id": "cc4d7e9c",
   "metadata": {},
   "outputs": [
    {
     "data": {
      "text/plain": [
       "text     0\n",
       "lable    0\n",
       "dtype: int64"
      ]
     },
     "execution_count": 38,
     "metadata": {},
     "output_type": "execute_result"
    }
   ],
   "source": [
    "df.isnull().sum()"
   ]
  },
  {
   "cell_type": "code",
   "execution_count": 39,
   "id": "af7c1025",
   "metadata": {},
   "outputs": [],
   "source": [
    "nlp = spacy.load('en_core_web_lg')"
   ]
  },
  {
   "cell_type": "code",
   "execution_count": 41,
   "id": "41f37acd",
   "metadata": {},
   "outputs": [],
   "source": [
    "df['vector'] = df['text'].apply(lambda x: nlp(x).vector)"
   ]
  },
  {
   "cell_type": "code",
   "execution_count": 42,
   "id": "76533fe0",
   "metadata": {},
   "outputs": [
    {
     "data": {
      "text/html": [
       "<div>\n",
       "<style scoped>\n",
       "    .dataframe tbody tr th:only-of-type {\n",
       "        vertical-align: middle;\n",
       "    }\n",
       "\n",
       "    .dataframe tbody tr th {\n",
       "        vertical-align: top;\n",
       "    }\n",
       "\n",
       "    .dataframe thead th {\n",
       "        text-align: right;\n",
       "    }\n",
       "</style>\n",
       "<table border=\"1\" class=\"dataframe\">\n",
       "  <thead>\n",
       "    <tr style=\"text-align: right;\">\n",
       "      <th></th>\n",
       "      <th>text</th>\n",
       "      <th>lable</th>\n",
       "      <th>vector</th>\n",
       "    </tr>\n",
       "  </thead>\n",
       "  <tbody>\n",
       "    <tr>\n",
       "      <th>3040</th>\n",
       "      <td>Democrats stood up for the American people but...</td>\n",
       "      <td>0</td>\n",
       "      <td>[-2.2413616, 0.8829072, -2.5269208, 0.51885337...</td>\n",
       "    </tr>\n",
       "    <tr>\n",
       "      <th>41612</th>\n",
       "      <td>BEIRUT (Reuters) - The Syrian military has cle...</td>\n",
       "      <td>1</td>\n",
       "      <td>[-2.9236248, 0.46827582, -1.7895272, 2.1510441...</td>\n",
       "    </tr>\n",
       "    <tr>\n",
       "      <th>6040</th>\n",
       "      <td>Republican House Speaker Paul Ryan has been ge...</td>\n",
       "      <td>0</td>\n",
       "      <td>[-1.3641711, 1.1180006, -1.9214587, -0.5378728...</td>\n",
       "    </tr>\n",
       "    <tr>\n",
       "      <th>30742</th>\n",
       "      <td>WASHINGTON (Reuters) - U.S. House Democratic L...</td>\n",
       "      <td>1</td>\n",
       "      <td>[-1.4524539, 1.2988873, -1.9457631, 0.32273692...</td>\n",
       "    </tr>\n",
       "    <tr>\n",
       "      <th>19492</th>\n",
       "      <td>The Michigan Court of Appeals rejected Green P...</td>\n",
       "      <td>0</td>\n",
       "      <td>[-2.5115018, 0.4474818, -1.7552104, 0.8835322,...</td>\n",
       "    </tr>\n",
       "  </tbody>\n",
       "</table>\n",
       "</div>"
      ],
      "text/plain": [
       "                                                    text  lable  \\\n",
       "3040   Democrats stood up for the American people but...      0   \n",
       "41612  BEIRUT (Reuters) - The Syrian military has cle...      1   \n",
       "6040   Republican House Speaker Paul Ryan has been ge...      0   \n",
       "30742  WASHINGTON (Reuters) - U.S. House Democratic L...      1   \n",
       "19492  The Michigan Court of Appeals rejected Green P...      0   \n",
       "\n",
       "                                                  vector  \n",
       "3040   [-2.2413616, 0.8829072, -2.5269208, 0.51885337...  \n",
       "41612  [-2.9236248, 0.46827582, -1.7895272, 2.1510441...  \n",
       "6040   [-1.3641711, 1.1180006, -1.9214587, -0.5378728...  \n",
       "30742  [-1.4524539, 1.2988873, -1.9457631, 0.32273692...  \n",
       "19492  [-2.5115018, 0.4474818, -1.7552104, 0.8835322,...  "
      ]
     },
     "execution_count": 42,
     "metadata": {},
     "output_type": "execute_result"
    }
   ],
   "source": [
    "df.head()"
   ]
  },
  {
   "cell_type": "code",
   "execution_count": 46,
   "id": "746df1d7",
   "metadata": {},
   "outputs": [],
   "source": [
    "from sklearn.model_selection import train_test_split\n",
    "X_train,X_test,y_train,y_test = train_test_split(df.vector.values,df.lable,test_size=0.2,random_state=10)"
   ]
  },
  {
   "cell_type": "code",
   "execution_count": 47,
   "id": "d59f38e4",
   "metadata": {},
   "outputs": [
    {
     "data": {
      "text/plain": [
       "(8000,)"
      ]
     },
     "execution_count": 47,
     "metadata": {},
     "output_type": "execute_result"
    }
   ],
   "source": [
    "X_train.shape"
   ]
  },
  {
   "cell_type": "code",
   "execution_count": 49,
   "id": "1a4fe29f",
   "metadata": {},
   "outputs": [
    {
     "data": {
      "text/plain": [
       "(2000,)"
      ]
     },
     "execution_count": 49,
     "metadata": {},
     "output_type": "execute_result"
    }
   ],
   "source": [
    "X_test.shape"
   ]
  },
  {
   "cell_type": "code",
   "execution_count": 50,
   "id": "b530a871",
   "metadata": {},
   "outputs": [
    {
     "data": {
      "text/plain": [
       "array([array([-2.0494754 ,  0.65270495, -1.6341592 ,  1.0867572 ,  3.9890804 ,\n",
       "              -0.43352747,  0.9779843 ,  2.6092036 ,  0.736363  , -0.33292827,\n",
       "               3.7473755 ,  0.3576881 , -3.0810127 ,  0.67096275, -2.2831628 ,\n",
       "               2.4664037 ,  1.3354485 ,  0.74908596, -2.1002772 , -0.6966499 ,\n",
       "               0.64430594, -0.2683191 , -1.9518905 ,  2.5522509 ,  0.9182555 ,\n",
       "              -1.7931368 , -2.3148782 , -0.9398474 ,  0.04412145, -0.5510965 ,\n",
       "              -0.45400837,  0.49907857,  0.6509859 , -1.2383628 , -1.2337947 ,\n",
       "              -1.3534635 ,  0.71543026,  0.63323945,  0.7399027 , -0.55568814,\n",
       "              -0.72250146, -0.6791401 ,  0.62782466,  1.3916597 , -1.4382266 ,\n",
       "               0.16853535,  0.11720309, -0.52205884, -0.16099821,  0.35282165,\n",
       "              -0.9907835 ,  0.9668749 , -0.7853409 , -3.635295  , -1.1893553 ,\n",
       "               0.8217713 ,  0.6060453 ,  0.22927874, -0.15103324, -1.5242852 ,\n",
       "               0.78711736, -0.95065665, -0.00841502, -0.98609966,  2.9741814 ,\n",
       "               0.5839114 , -1.2272025 , -1.3349392 ,  1.2327147 ,  1.6428815 ,\n",
       "              -0.7770727 , -0.55859214, -1.7732394 , -0.09108621, -0.7593919 ,\n",
       "               2.456153  , -1.7669306 ,  2.5369391 , -2.4714987 ,  0.67149174,\n",
       "              -2.779535  , -0.54842764, -0.37608594,  1.2431912 ,  0.03496238,\n",
       "               0.09611037, -1.5562661 , -3.0019548 ,  0.91915864, -1.0061569 ,\n",
       "              -1.3638239 ,  0.45464814,  1.1693089 , -2.3197088 ,  0.27885345,\n",
       "              -0.18942718, -0.09238979, -0.8157246 ,  1.6487718 ,  0.70060056,\n",
       "               2.1528618 , -0.2412189 ,  2.180681  ,  3.0015056 ,  0.15422583,\n",
       "               3.846898  ,  0.8480922 , -1.9144679 ,  0.04603102, -2.7203848 ,\n",
       "               1.8935757 ,  1.3335949 , -1.3753314 ,  0.58047056,  1.1921861 ,\n",
       "               0.24054243, -0.4649371 , -0.8094854 ,  0.41657677, -1.3060323 ,\n",
       "               0.46562144, -3.1063073 ,  1.7713747 ,  1.3269037 , -0.17444354,\n",
       "              -2.8418148 ,  1.0027348 , -0.96247745,  2.9813752 , -0.60281706,\n",
       "              -2.5232365 , -0.0696094 ,  3.656277  , -0.9156222 , -0.10561742,\n",
       "               0.8315331 , -0.4745744 ,  0.7795667 ,  1.0812907 , -1.4218194 ,\n",
       "              -1.5195148 , -0.7589523 ,  0.5923744 ,  0.65494746,  1.7930572 ,\n",
       "               1.538107  , -2.463361  , -0.5530865 ,  0.88145965,  0.8640156 ,\n",
       "              -0.72630847,  1.9717379 ,  0.56774956,  1.6098474 , -0.26286206,\n",
       "              -0.5867404 ,  2.036086  , -0.3011169 , -1.1128643 , -2.5124247 ,\n",
       "               0.70983624, -1.1547664 ,  1.4450918 ,  2.4787078 , -1.1144156 ,\n",
       "              -0.6267924 , -2.9307635 ,  2.0152657 ,  1.8508419 ,  0.55033565,\n",
       "               0.8761685 ,  0.13350856, -0.13168485,  0.20851927,  1.8372414 ,\n",
       "               1.9310122 ,  0.07737291, -0.35839564, -3.5781624 , -0.13587275,\n",
       "              -2.6971152 ,  1.359324  ,  0.5749684 , -0.8784732 , -1.3016262 ,\n",
       "               0.9369829 , -1.018473  ,  1.6745666 ,  0.4405005 ,  1.4735562 ,\n",
       "               0.8359785 , -1.9230453 , -1.2164215 , -0.90828675,  1.7918323 ,\n",
       "               1.2184508 , -2.1299682 , -3.061155  , -1.0892321 ,  0.31742403,\n",
       "              -0.6737492 , -1.632955  , -0.4489446 , -2.2089226 ,  3.467204  ,\n",
       "               0.71951437, -2.9256527 ,  1.7896369 , -0.18946274, -0.5069835 ,\n",
       "               1.2513222 ,  0.23685156,  0.21227069, -0.30821988,  2.392555  ,\n",
       "               1.9078672 ,  2.4154825 , -2.3972049 , -0.3154729 ,  0.07352796,\n",
       "              -0.8259636 ,  0.86109596,  0.18779063, -1.8360411 , -1.4352691 ,\n",
       "              -1.4807899 ,  0.5030124 ,  2.045193  ,  1.0001127 , -1.1881557 ,\n",
       "               2.4404423 , -2.366117  , -1.6291901 ,  1.7926639 ,  1.2164207 ,\n",
       "               1.6752197 , -0.7254825 ,  0.08568814, -1.0218637 ,  0.1887814 ,\n",
       "              -0.17964554, -0.29374793,  0.91329724,  0.45096344, -1.6835827 ,\n",
       "               1.5555192 , -1.5292735 , -0.7593866 ,  0.73576826,  1.5639037 ,\n",
       "               0.19107185, -2.3846824 , -3.2318661 , -2.0401342 ,  0.7243253 ,\n",
       "              -1.3892246 ,  2.2597141 , -0.19937678,  1.5906603 , -0.3660338 ,\n",
       "              -0.7628921 ,  4.4648924 ,  1.4798051 ,  2.5393922 ,  1.3868629 ,\n",
       "              -0.87938935, -0.7109526 ,  1.0937667 , -1.8605733 , -0.38004908,\n",
       "              -0.53226924,  0.96354073,  0.115636  , -2.4020965 ,  0.3636804 ,\n",
       "              -0.42709723,  1.2740947 , -2.5671997 , -0.27201506,  0.28074744,\n",
       "               3.471591  ,  0.5612244 ,  0.5414509 ,  1.0558323 ,  1.9998767 ,\n",
       "               1.2502116 ,  0.09068292,  1.8366339 , -1.6829482 ,  1.1758486 ,\n",
       "              -0.9096109 ,  0.70163107, -1.8000952 ,  0.76249087, -1.2877321 ,\n",
       "               1.8363838 ,  0.1949798 , -0.87387615, -1.3969042 ,  1.5025567 ],\n",
       "             dtype=float32)                                                    ,\n",
       "       array([-2.45579338e+00,  3.23931217e-01, -1.17310047e+00,  4.05379027e-01,\n",
       "               4.47204256e+00,  2.85381645e-01,  6.18643463e-01,  3.71228266e+00,\n",
       "               3.42345119e-01, -9.82767224e-01,  5.88332129e+00,  1.49255812e+00,\n",
       "              -3.70281506e+00,  8.10751975e-01,  4.94583994e-02,  1.92937624e+00,\n",
       "               1.27953148e+00, -2.34763220e-01, -1.47422743e+00, -1.85197926e+00,\n",
       "               1.00925052e+00, -1.23981559e+00, -1.62229252e+00,  8.55605066e-01,\n",
       "               1.02288485e-01, -1.52456224e+00, -2.64392710e+00, -8.50709081e-01,\n",
       "              -6.17770493e-01,  1.07792282e+00,  1.07859004e+00, -4.14354980e-01,\n",
       "              -7.23280191e-01, -2.01479363e+00, -2.54256511e+00, -7.06298232e-01,\n",
       "              -7.12392747e-01,  9.11733806e-01,  5.42905450e-01, -7.93735906e-02,\n",
       "               1.77756459e-01,  4.66599703e-01, -2.76581287e-01, -1.84146815e-03,\n",
       "              -1.77409732e+00,  8.94004941e-01,  1.12549806e+00, -1.83416998e+00,\n",
       "              -9.53121722e-01,  1.35812378e+00, -1.08447325e+00,  1.91512811e+00,\n",
       "              -2.57907063e-01, -4.65921736e+00, -8.79789591e-01,  1.10838962e+00,\n",
       "              -2.16915056e-01,  1.34335411e+00,  5.80966055e-01, -5.61370611e-01,\n",
       "               8.26194048e-01, -1.78855133e+00, -1.36722922e-01, -1.57818377e+00,\n",
       "               2.20314264e+00,  1.40899885e+00, -2.35338569e+00, -3.07904863e+00,\n",
       "               1.24531269e+00,  2.46704602e+00, -5.36021054e-01, -2.59478599e-01,\n",
       "              -2.29620171e+00, -5.90081453e-01, -1.41131043e-01,  1.46624148e+00,\n",
       "              -2.87864113e+00,  2.23968673e+00, -3.05584717e+00,  7.24955574e-02,\n",
       "              -3.60405755e+00, -7.35922635e-01,  8.89227808e-01,  1.40963662e+00,\n",
       "               2.14751124e+00, -1.94066148e-02, -2.13039756e+00, -3.26712441e+00,\n",
       "               1.38879108e+00, -1.11634982e+00, -1.14249063e+00,  8.73588845e-02,\n",
       "               1.76916778e+00, -3.34073639e+00,  1.00840330e+00, -1.02644205e+00,\n",
       "               8.78078163e-01, -1.39000142e+00,  6.48913741e-01,  1.21766579e+00,\n",
       "               2.78269315e+00,  1.26212478e+00,  2.34885859e+00,  3.51264691e+00,\n",
       "              -1.17819346e-01,  4.43354416e+00,  1.21970129e+00, -2.31767893e+00,\n",
       "              -3.20108861e-01, -2.88599110e+00,  1.24936342e+00,  7.04500675e-01,\n",
       "              -1.91321051e+00,  7.22713172e-01,  6.43721879e-01,  1.08166051e+00,\n",
       "              -2.73941189e-01, -4.24279094e-01, -4.93173674e-03, -1.33610201e+00,\n",
       "              -4.62964803e-01, -2.48807955e+00,  8.59488606e-01,  1.00087178e+00,\n",
       "              -1.40254545e+00, -3.24233127e+00,  9.52993989e-01, -2.16763091e+00,\n",
       "               2.76556182e+00, -9.57964122e-01, -2.53871584e+00, -1.23280287e-01,\n",
       "               3.84241152e+00, -3.78464639e-01,  6.27541125e-01,  5.82829654e-01,\n",
       "              -1.86188960e+00, -5.52777052e-01,  2.12763476e+00, -1.98782682e+00,\n",
       "              -1.74982023e+00, -6.66720033e-01,  3.08865547e-01,  1.49912131e+00,\n",
       "               1.36838913e+00,  1.18396449e+00, -2.86188912e+00, -3.93787473e-01,\n",
       "               9.40195382e-01,  1.12112999e+00, -3.31523359e-01,  2.40118718e+00,\n",
       "              -1.06936708e-01,  2.08186388e+00, -1.56286287e+00,  7.79106438e-01,\n",
       "               2.32513022e+00, -4.48602498e-01, -1.73302650e+00, -1.01748061e+00,\n",
       "              -5.26711881e-01, -2.07644391e+00, -1.24105468e-01,  2.35733652e+00,\n",
       "              -2.31141758e+00, -1.50359356e+00, -3.71967816e+00,  1.11219633e+00,\n",
       "               4.86972749e-01,  4.71172392e-01,  1.21410966e+00,  3.99614751e-01,\n",
       "               1.67827880e+00,  5.20998895e-01,  1.36181533e+00,  1.69351146e-01,\n",
       "              -1.00742638e-01, -2.24155381e-01, -2.44676161e+00, -9.93605375e-01,\n",
       "              -1.00387967e+00,  6.80533886e-01,  1.40951276e+00, -3.07134211e-01,\n",
       "              -1.23414981e+00,  8.09189022e-01, -1.65217972e+00,  4.51189995e-01,\n",
       "               6.60862625e-01,  2.39326358e+00,  7.13365292e-03, -1.55230463e+00,\n",
       "              -4.85882431e-01, -1.83079243e+00,  2.18346849e-01,  3.49446952e-01,\n",
       "              -2.72267222e+00, -1.01743734e+00,  2.06761777e-01,  4.84591872e-01,\n",
       "              -1.20753992e+00, -1.85862541e+00,  2.56534636e-01, -2.54386544e+00,\n",
       "               3.29756570e+00,  9.21656549e-01, -3.88070655e+00,  1.97167516e+00,\n",
       "              -2.62625039e-01, -3.67908597e-01,  1.29518425e+00,  9.19988036e-01,\n",
       "              -1.47768545e+00,  1.40693152e+00,  1.37738907e+00,  2.52825022e+00,\n",
       "               7.10713148e-01, -2.45923805e+00, -3.01663242e-02,  1.30677894e-01,\n",
       "              -1.86819124e+00,  1.73713088e+00, -1.60262838e-01,  3.36781383e-01,\n",
       "              -1.95390332e+00, -1.49951315e+00,  2.31783465e-01,  2.76923108e+00,\n",
       "               1.54206884e+00,  6.20762825e-01,  2.95486331e+00, -2.53191972e+00,\n",
       "              -5.67865491e-01,  2.00099587e+00,  1.92644513e+00,  1.66158760e+00,\n",
       "              -1.58194852e+00,  5.87842166e-01, -8.39314044e-01, -6.04262769e-01,\n",
       "              -4.92085278e-01,  4.76681322e-01,  1.11408126e+00,  5.56951761e-01,\n",
       "              -1.31122196e+00,  1.01028538e+00, -2.56061435e+00,  5.36174715e-01,\n",
       "               2.14044884e-01,  2.55764818e+00,  1.03134012e+00, -2.51654792e+00,\n",
       "              -4.61243629e+00, -4.16214913e-01,  9.94404852e-01, -2.67458224e+00,\n",
       "               1.97278011e+00, -4.25063580e-01,  1.25287724e+00,  9.43427324e-01,\n",
       "              -7.47658789e-01,  5.11109161e+00,  2.81768441e+00,  2.66703892e+00,\n",
       "               2.04595733e+00, -6.07604921e-01,  4.01161006e-03,  1.72325933e+00,\n",
       "              -3.06011033e+00,  7.54570737e-02,  4.16595161e-01,  2.31667206e-01,\n",
       "               9.47466671e-01, -1.75894082e+00,  7.74660349e-01, -7.54222751e-01,\n",
       "               1.53464460e+00, -1.87446702e+00, -7.99279690e-01,  1.59141409e+00,\n",
       "               1.42770517e+00,  6.19782627e-01,  1.01454985e+00,  9.52087402e-01,\n",
       "               2.73249221e+00, -6.32952750e-01,  6.86349511e-01,  1.58464372e+00,\n",
       "              -1.38467610e+00,  2.38309041e-01,  3.92828554e-01, -4.93077815e-01,\n",
       "              -1.95068613e-01,  1.78731769e-01, -1.13156152e+00,  1.79577577e+00,\n",
       "               5.09278893e-01, -1.27632737e+00, -2.00101686e+00,  9.97901082e-01],\n",
       "             dtype=float32)                                                       ,\n",
       "       array([-1.8883454 ,  0.36689234, -2.119003  ,  0.86330533,  4.42525   ,\n",
       "              -0.61282   ,  0.697504  ,  3.5000474 ,  0.3098609 , -1.1687593 ,\n",
       "               2.9159725 ,  1.39429   , -3.4617848 ,  0.86102533, -0.8663537 ,\n",
       "               2.637023  ,  1.9857671 ,  0.39331666, -0.157182  , -0.13275711,\n",
       "               0.5468324 , -0.73305124, -0.6773634 ,  0.6236683 ,  0.09972916,\n",
       "              -1.2127392 , -1.8798739 , -0.7552127 ,  0.11860576,  0.435876  ,\n",
       "              -0.36121804,  1.0076911 ,  0.66881824, -2.0667245 , -1.7921946 ,\n",
       "              -1.2755275 , -0.6685614 , -0.16937613, -0.32123792, -0.6048365 ,\n",
       "               0.08279958, -0.9760252 ,  0.3195964 ,  0.22017124, -1.0460956 ,\n",
       "              -0.52494675,  0.11610363, -1.0316117 , -1.037457  ,  1.2775683 ,\n",
       "              -1.2507334 ,  0.8781692 , -0.50890386, -2.7643175 , -0.40060967,\n",
       "               1.8860666 , -0.15284885,  0.02969121,  0.01675418, -0.44440508,\n",
       "               0.20968272, -0.97328895, -0.83394134, -0.41846865,  1.6350709 ,\n",
       "              -0.3042966 , -1.8392383 , -1.7799069 ,  0.14187938,  2.2355127 ,\n",
       "              -0.5054321 , -1.5162003 , -1.5960542 , -0.2804374 , -0.08865875,\n",
       "               0.44999737, -1.2648443 ,  1.1815656 , -1.8180003 , -0.5460652 ,\n",
       "              -3.0950103 , -1.6406026 ,  0.0578207 ,  0.57936865,  1.0788249 ,\n",
       "              -0.3692134 , -0.7163086 , -2.170407  ,  0.7616188 , -1.2276781 ,\n",
       "              -1.5647883 ,  0.4024607 ,  1.4889395 , -1.1612829 ,  1.4181621 ,\n",
       "               0.26562375,  0.8919967 , -0.84990174,  1.6569089 ,  1.0215425 ,\n",
       "               1.038163  ,  0.7854717 ,  2.332306  ,  3.1705353 , -0.18139818,\n",
       "               2.6818886 , -0.272462  , -0.90255076, -0.6989961 , -3.2006514 ,\n",
       "               1.3191458 ,  0.21968314, -1.5776243 , -0.06510502,  0.64873266,\n",
       "               0.28938466, -0.5320158 , -0.6793809 , -0.10240794, -1.112528  ,\n",
       "               0.42068422, -3.0993903 ,  1.2948934 , -0.22441953,  0.17100386,\n",
       "              -1.6820357 ,  2.094261  , -1.7482921 ,  3.3082604 , -1.3217648 ,\n",
       "              -3.1234405 , -0.05457907,  3.238711  , -0.9498799 ,  0.68130213,\n",
       "              -0.50004864, -1.1494594 ,  0.33946595,  1.8234872 , -0.5346404 ,\n",
       "              -1.6879488 , -0.9078345 ,  0.04706369,  1.2775997 ,  1.8906037 ,\n",
       "               1.4315267 , -3.0924683 ,  0.27154076,  2.03163   ,  0.9837177 ,\n",
       "              -0.7708045 ,  2.1253648 ,  0.6101195 ,  1.4709339 , -1.2822874 ,\n",
       "               0.37922028,  1.4259205 , -0.42684203, -2.0881033 , -0.535566  ,\n",
       "              -0.28367352, -2.9713502 ,  0.1169544 ,  1.6716926 , -1.6090087 ,\n",
       "              -1.4109298 , -3.485613  ,  1.8495972 ,  0.06168684,  1.7869014 ,\n",
       "               0.2510799 ,  0.26764062,  1.6553214 , -0.38311666,  1.0421824 ,\n",
       "               1.74448   , -0.16876331, -1.4690679 , -2.8427413 , -0.8999777 ,\n",
       "              -0.32793337,  0.71169424,  1.1129771 , -0.1294228 , -0.9995031 ,\n",
       "               1.5599111 , -1.1047527 ,  0.79534525,  0.31758472,  1.057703  ,\n",
       "               0.36341837, -1.8588477 , -0.37967932,  0.22176056,  0.70022184,\n",
       "              -0.21680878, -1.5577831 , -1.17806   , -1.1067789 ,  0.5876966 ,\n",
       "              -1.3761272 , -1.7771599 ,  0.25581408, -2.2815988 ,  2.0001664 ,\n",
       "               0.0276562 , -2.0238385 ,  1.763802  , -0.14537074, -0.22186004,\n",
       "               0.97477585,  0.42686412, -1.105721  ,  1.0637535 ,  1.6135939 ,\n",
       "               1.8623316 ,  0.8352166 , -1.389593  ,  0.20392585, -0.46258864,\n",
       "              -2.4223871 ,  0.86006945, -0.4228647 ,  0.3626925 , -1.3794501 ,\n",
       "              -1.3100438 ,  0.321678  ,  2.2353377 ,  0.09857988, -0.47432902,\n",
       "               2.2329519 , -1.7746419 , -1.3287312 ,  1.0052254 ,  1.7411712 ,\n",
       "               0.8528471 , -0.4286945 ,  0.50811636, -1.305658  , -0.34673125,\n",
       "               0.4604351 , -0.34999087,  0.79104555, -0.48580834, -1.5495727 ,\n",
       "               1.3935001 , -1.5619724 ,  0.13657165, -0.3519429 ,  1.9496444 ,\n",
       "               0.5143828 , -2.4790041 , -4.5742273 , -0.14047463,  0.20002344,\n",
       "              -1.726279  ,  1.402752  , -0.16062672,  1.4075648 ,  0.7690963 ,\n",
       "              -0.58935314,  3.4795668 ,  1.7828758 ,  1.6929971 ,  1.9250959 ,\n",
       "              -0.9594492 ,  0.16329879,  1.3063496 , -2.9497473 , -0.3483716 ,\n",
       "              -0.4509373 ,  0.36728248,  0.22096728, -1.6868912 ,  0.38051906,\n",
       "              -0.36716652,  1.3329848 , -1.3727385 , -0.13394883,  1.3389511 ,\n",
       "               1.0310465 ,  0.14590333, -0.436782  ,  1.8300942 ,  2.5882776 ,\n",
       "              -0.20872697, -0.43771353,  1.4619019 , -1.2739664 , -0.14589375,\n",
       "              -0.02829727,  0.12273164, -2.1606355 ,  0.12499519, -1.4264847 ,\n",
       "               1.374147  ,  0.52548707, -1.1519905 , -1.1609759 ,  0.8115999 ],\n",
       "             dtype=float32)                                                    ,\n",
       "       ...,\n",
       "       array([-1.86908793e+00,  5.63251972e-01, -1.86817527e+00,  2.16712475e-01,\n",
       "               4.64302206e+00, -6.91883862e-02,  4.24101293e-01,  4.15718412e+00,\n",
       "               8.17166120e-02, -1.07280958e+00,  5.56431675e+00,  1.64644670e+00,\n",
       "              -3.33711195e+00,  7.47896075e-01,  6.12241864e-01,  1.84894145e+00,\n",
       "               1.25106490e+00, -3.49191219e-01, -1.05457032e+00, -7.98290849e-01,\n",
       "               9.02828395e-01, -6.43920958e-01, -9.06786025e-01, -3.11270859e-02,\n",
       "               2.12935939e-01, -1.48430657e+00, -2.22234201e+00, -6.17612302e-01,\n",
       "              -6.69398487e-01,  1.20305073e+00,  9.38939214e-01, -2.49671906e-01,\n",
       "              -5.95940948e-01, -1.48408306e+00, -2.52447009e+00, -9.40930068e-01,\n",
       "              -7.33848810e-01,  7.31881320e-01,  1.00841999e+00,  2.82927305e-01,\n",
       "               1.90679971e-02,  1.22372903e-01, -1.98050309e-02,  2.67182052e-01,\n",
       "              -1.35921705e+00,  9.28842068e-01,  3.55395287e-01, -2.08227587e+00,\n",
       "              -9.11999404e-01,  2.19799662e+00, -1.61447287e+00,  1.10731089e+00,\n",
       "               5.33558130e-01, -4.22916460e+00, -6.63949490e-01,  2.25228399e-01,\n",
       "               2.98599482e-01,  6.68646693e-01,  7.34988511e-01, -5.32406151e-01,\n",
       "               3.84003103e-01, -9.82756913e-01, -1.29865468e-01, -1.22197449e+00,\n",
       "               2.18470287e+00,  1.65338576e+00, -2.13771582e+00, -2.82992554e+00,\n",
       "               1.13971531e+00,  2.16542912e+00, -3.49946588e-01, -5.93848944e-01,\n",
       "              -2.16022468e+00, -2.72776932e-02, -3.80577236e-01,  1.16912007e+00,\n",
       "              -3.07259822e+00,  2.73336434e+00, -3.11810660e+00, -6.01447403e-01,\n",
       "              -3.92510557e+00, -2.56269008e-01,  9.76106644e-01,  1.12200916e+00,\n",
       "               2.44183564e+00,  2.56967992e-01, -1.96926999e+00, -2.68757010e+00,\n",
       "               1.12926340e+00, -1.06596100e+00, -1.33991861e+00, -1.36771724e-01,\n",
       "               2.06506872e+00, -3.14280391e+00,  1.18533242e+00, -1.37869132e+00,\n",
       "               7.86363244e-01, -5.99816740e-01,  1.21454227e+00,  1.70312655e+00,\n",
       "               2.09630489e+00,  1.56655300e+00,  2.39914656e+00,  2.99109316e+00,\n",
       "              -5.90532005e-01,  3.37353921e+00,  3.74228716e-01, -2.17350793e+00,\n",
       "              -2.76090860e-01, -3.13234568e+00,  8.55560362e-01,  1.09283650e+00,\n",
       "              -1.55691552e+00,  1.38381672e+00,  1.10784781e+00,  2.50242054e-01,\n",
       "              -6.32249892e-01,  2.52161860e-01, -2.04612628e-01, -6.56279504e-01,\n",
       "              -8.42662632e-01, -3.37518334e+00,  1.09105730e+00,  1.19066787e+00,\n",
       "              -4.62061018e-01, -2.98314834e+00,  1.44309318e+00, -1.86877048e+00,\n",
       "               2.58341813e+00, -1.64958382e+00, -2.49943185e+00, -3.11218128e-02,\n",
       "               3.69741321e+00, -8.02326977e-01,  4.26981859e-02,  6.52144134e-01,\n",
       "              -1.31773221e+00, -7.19328523e-01,  2.92245555e+00, -2.07528138e+00,\n",
       "              -2.39008069e+00, -5.52605152e-01,  4.63651985e-01,  1.86445498e+00,\n",
       "               9.73830879e-01,  8.32686961e-01, -3.25308108e+00,  1.85903445e-01,\n",
       "               1.34248233e+00,  1.05704021e+00, -1.58994257e-01,  2.58747935e+00,\n",
       "               1.40425324e-01,  1.61374247e+00, -1.75162303e+00,  1.14331818e+00,\n",
       "               2.08371091e+00, -1.03706288e+00, -2.22958636e+00, -1.05338109e+00,\n",
       "              -6.46771550e-01, -2.99364853e+00, -1.22469194e-01,  1.83335149e+00,\n",
       "              -2.21498919e+00, -1.54515648e+00, -3.43803596e+00,  1.24576139e+00,\n",
       "              -3.77170891e-01,  5.04611254e-01,  1.21822906e+00, -2.33299151e-01,\n",
       "               2.15141606e+00,  5.51872611e-01,  1.77191842e+00,  4.73697782e-02,\n",
       "              -2.11317301e-01, -3.97458792e-01, -2.17307901e+00, -1.57051301e+00,\n",
       "              -8.51210415e-01, -7.94177726e-02,  1.35428083e+00, -3.03010225e-01,\n",
       "              -8.16957414e-01,  5.88272870e-01, -1.60569966e+00, -3.53575170e-01,\n",
       "               9.97009754e-01,  1.62319326e+00,  1.22625411e-01, -1.50653505e+00,\n",
       "              -3.04751307e-01, -1.14969504e+00,  1.71991393e-01,  4.47165638e-01,\n",
       "              -2.59548020e+00, -4.41899419e-01,  1.53953126e-02,  1.32323372e+00,\n",
       "              -1.37160420e+00, -1.31615758e+00, -7.77985692e-01, -2.50120759e+00,\n",
       "               2.49231434e+00,  1.02650213e+00, -2.95891452e+00,  1.43372524e+00,\n",
       "              -4.87301469e-01, -5.40333331e-01,  1.10822356e+00,  1.03759789e+00,\n",
       "              -1.30014372e+00,  1.78079283e+00,  1.01682496e+00,  2.41612554e+00,\n",
       "               3.85095626e-01, -1.67519629e+00, -2.72292167e-01,  1.49943396e-01,\n",
       "              -2.26610589e+00,  1.12357652e+00, -2.49106824e-01,  8.42367411e-01,\n",
       "              -1.99983203e+00, -8.81610930e-01,  4.03282642e-01,  2.66648984e+00,\n",
       "               1.34092200e+00,  3.28081816e-01,  2.33771777e+00, -2.64544225e+00,\n",
       "              -6.89820588e-01,  1.82912636e+00,  1.91011608e+00,  1.63480258e+00,\n",
       "              -1.53172290e+00,  4.02820110e-01, -9.14139926e-01, -5.02103329e-01,\n",
       "              -1.89700887e-01,  8.74366105e-01,  1.66806316e+00,  4.60356027e-01,\n",
       "              -8.96131992e-01,  1.57725537e+00, -1.83230972e+00, -2.37668633e-01,\n",
       "               1.88161343e-01,  2.26027989e+00,  1.05232430e+00, -2.35166216e+00,\n",
       "              -4.95135784e+00, -4.86322761e-01,  3.09104115e-01, -2.05941105e+00,\n",
       "               2.02127194e+00, -3.54042768e-01,  1.38913825e-01,  1.00697768e+00,\n",
       "               2.75407910e-01,  4.29377079e+00,  2.84765697e+00,  2.33913374e+00,\n",
       "               1.36048543e+00, -2.12542608e-01,  2.78817594e-01,  2.08660889e+00,\n",
       "              -3.25636911e+00, -1.35368571e-01,  1.69749513e-01, -5.25962889e-01,\n",
       "               1.51975885e-01, -2.00114918e+00,  5.26615918e-01, -2.68692911e-01,\n",
       "               1.74419820e+00, -1.33919394e+00, -8.82022917e-01,  1.79451442e+00,\n",
       "               1.04620540e+00,  2.53485888e-01,  7.71552801e-01,  1.20185649e+00,\n",
       "               3.03820753e+00, -9.81157482e-01,  2.26291612e-01,  1.43949330e+00,\n",
       "              -1.29895568e+00,  2.13697299e-01,  7.98606038e-01, -5.96343160e-01,\n",
       "              -1.49323598e-01, -5.00847958e-03, -1.50686932e+00,  1.43171561e+00,\n",
       "               1.40975904e+00, -1.09423792e+00, -2.50869679e+00,  5.73520780e-01],\n",
       "             dtype=float32)                                                       ,\n",
       "       array([-1.49033785e+00,  1.01505184e+00, -1.90935767e+00,  8.11279774e-01,\n",
       "               4.53339338e+00,  9.49587107e-01,  5.49413145e-01,  3.76423550e+00,\n",
       "              -4.57451910e-01, -1.07873034e+00,  5.62806511e+00,  1.57921636e+00,\n",
       "              -4.14637327e+00,  9.67578769e-01,  2.05673307e-01,  2.44591451e+00,\n",
       "               1.29376709e+00, -5.27696371e-01, -1.84181833e+00, -1.57031965e+00,\n",
       "               1.17688704e+00, -1.06986499e+00, -9.70618606e-01,  2.38296822e-01,\n",
       "               4.57697779e-01, -1.70046306e+00, -2.42567277e+00, -5.28279960e-01,\n",
       "              -7.53423810e-01,  5.16959071e-01,  1.66909111e+00, -2.08910301e-01,\n",
       "              -3.95588100e-01, -1.68762469e+00, -2.22792101e+00, -1.19526565e+00,\n",
       "              -3.72603506e-01,  1.04899263e+00,  9.09357488e-01,  5.63343406e-01,\n",
       "               2.57008851e-01,  4.05222148e-01,  1.71840310e-01,  4.00583953e-01,\n",
       "              -1.94749808e+00,  1.04668331e+00,  1.47906208e+00, -2.19107366e+00,\n",
       "              -1.13555670e+00,  1.75810444e+00, -1.34413266e+00,  1.79076576e+00,\n",
       "              -1.06228389e-01, -5.28179979e+00, -1.13419795e+00,  8.26601923e-01,\n",
       "              -1.30809285e-02,  9.73271549e-01,  1.09660375e+00, -1.17242329e-01,\n",
       "               5.82751155e-01, -1.33136511e+00, -3.56419832e-01, -1.60266542e+00,\n",
       "               3.24575949e+00,  1.46777904e+00, -2.58693194e+00, -2.54318905e+00,\n",
       "               9.93363082e-01,  2.46895194e+00, -1.30317509e-01, -3.17888260e-01,\n",
       "              -2.34668636e+00,  1.06453218e-01, -7.92734087e-01,  1.92245221e+00,\n",
       "              -2.87478590e+00,  2.53834796e+00, -3.37175083e+00, -3.48414123e-01,\n",
       "              -4.07491779e+00, -5.32611609e-01,  8.52298558e-01,  1.86108494e+00,\n",
       "               2.04035282e+00,  1.51961237e-01, -2.67955542e+00, -3.50930738e+00,\n",
       "               1.46846497e+00, -7.11623430e-01, -9.84207392e-01,  3.15027714e-01,\n",
       "               1.80528402e+00, -3.29444194e+00,  1.40510321e+00,  7.02264830e-02,\n",
       "               7.53785193e-01, -9.67406809e-01,  7.69059360e-01,  2.10420084e+00,\n",
       "               2.79980564e+00,  1.36118722e+00,  2.57958078e+00,  2.78030515e+00,\n",
       "              -6.27915025e-01,  3.87726665e+00,  8.47097218e-01, -2.65906596e+00,\n",
       "              -5.05918384e-01, -3.40605807e+00,  1.42809236e+00,  4.11952794e-01,\n",
       "              -2.00114989e+00,  6.40116155e-01,  9.23241913e-01,  1.35403776e+00,\n",
       "              -9.03584898e-01, -4.60874170e-01,  2.28702858e-01, -8.48055184e-01,\n",
       "              -8.04539442e-01, -3.04149270e+00,  7.24688649e-01,  4.91956264e-01,\n",
       "              -1.02032900e+00, -3.22422147e+00,  1.73114705e+00, -2.01812172e+00,\n",
       "               2.20923257e+00, -1.32013822e+00, -2.88312769e+00, -2.53100663e-01,\n",
       "               4.06009007e+00, -4.96400863e-01,  9.30061117e-02,  6.80485308e-01,\n",
       "              -1.96050453e+00, -6.82158023e-02,  2.43201566e+00, -2.15205765e+00,\n",
       "              -2.57368731e+00, -1.16832781e+00, -2.10757200e-02,  1.67952979e+00,\n",
       "               7.20456481e-01,  1.19562376e+00, -3.79417920e+00, -6.16758615e-02,\n",
       "               1.14730656e+00,  7.46804833e-01, -7.76402712e-01,  2.82910395e+00,\n",
       "              -4.17401344e-01,  1.40387380e+00, -1.69477057e+00,  8.60107481e-01,\n",
       "               2.86781597e+00, -1.34556079e+00, -2.23210502e+00, -1.29152715e+00,\n",
       "              -7.26628840e-01, -2.39135456e+00, -4.91282195e-01,  2.10456681e+00,\n",
       "              -2.53847814e+00, -1.69289029e+00, -4.08014488e+00,  1.42611039e+00,\n",
       "               5.38529754e-01, -1.82736665e-01,  8.91747952e-01,  2.77898908e-01,\n",
       "               2.04285455e+00,  7.82361552e-02,  1.60437441e+00,  1.88120902e-01,\n",
       "               4.08296049e-01, -2.59916008e-01, -2.19493866e+00, -1.55825591e+00,\n",
       "              -9.52950001e-01, -1.78343937e-01,  1.23038137e+00,  9.24641714e-02,\n",
       "              -7.41036713e-01,  9.53824520e-01, -1.47174990e+00,  3.99684340e-01,\n",
       "               1.63045013e+00,  1.67331159e+00,  1.49592638e-01, -1.55844212e+00,\n",
       "              -2.14206323e-01, -1.58048856e+00,  3.59358676e-02,  9.36935604e-01,\n",
       "              -2.97181964e+00, -5.08118153e-01, -5.23478627e-01,  9.83141661e-01,\n",
       "              -1.70073688e+00, -1.45031309e+00, -2.47944787e-01, -2.41475368e+00,\n",
       "               2.99430037e+00,  8.94530177e-01, -3.04735184e+00,  1.84101892e+00,\n",
       "              -1.29518762e-01, -2.42790595e-01,  1.21942985e+00,  7.42722452e-01,\n",
       "              -1.88075221e+00,  1.52139509e+00,  8.04889500e-01,  2.55040789e+00,\n",
       "               8.03082585e-01, -2.65833998e+00,  3.02808881e-01,  5.54187261e-02,\n",
       "              -2.10322523e+00,  1.56897533e+00, -3.25758845e-01, -5.18391803e-02,\n",
       "              -2.07506990e+00, -1.40523899e+00,  6.07750081e-02,  2.97160745e+00,\n",
       "               7.43246794e-01,  2.01966047e-01,  2.47860742e+00, -2.79298139e+00,\n",
       "              -1.02395844e+00,  1.90661871e+00,  2.67282391e+00,  1.28666675e+00,\n",
       "              -1.13546896e+00,  6.73899412e-01, -5.31966567e-01, -6.76604569e-01,\n",
       "              -7.84703255e-01,  4.43942785e-01,  1.74348223e+00,  4.26476933e-02,\n",
       "              -1.46153677e+00,  2.21307349e+00, -2.36043406e+00,  2.30570138e-03,\n",
       "               2.28924617e-01,  2.42605567e+00,  9.90863204e-01, -3.20473409e+00,\n",
       "              -4.97152090e+00, -8.77544940e-01,  1.04540491e+00, -2.69823241e+00,\n",
       "               1.78563738e+00, -1.38394463e+00,  1.56020492e-01,  1.06383729e+00,\n",
       "              -7.37223506e-01,  4.82256222e+00,  3.00868154e+00,  2.26673913e+00,\n",
       "               1.96334910e+00, -4.67522085e-01,  4.43282455e-01,  2.29115391e+00,\n",
       "              -3.43157530e+00, -4.56321724e-02, -2.79418081e-01,  8.27720910e-02,\n",
       "               9.25366700e-01, -2.20697212e+00,  1.14101064e+00, -1.27096438e+00,\n",
       "               1.02266455e+00, -2.64019537e+00, -9.84829366e-01,  1.88393378e+00,\n",
       "               1.28083634e+00,  3.65305603e-01,  9.33259726e-01,  1.07484090e+00,\n",
       "               2.24423504e+00, -5.88441074e-01,  1.04000449e+00,  1.93684292e+00,\n",
       "              -9.90866899e-01, -2.80367173e-02,  1.03504980e+00, -6.28015101e-01,\n",
       "              -5.42507112e-01, -1.54501215e-01, -1.53308451e+00,  1.25981128e+00,\n",
       "               1.27540469e+00, -1.59141445e+00, -1.81948733e+00,  1.47858655e+00],\n",
       "             dtype=float32)                                                       ,\n",
       "       array([-1.8187399 ,  0.8867698 , -1.8495626 ,  0.6758555 ,  4.7377357 ,\n",
       "               0.8723849 ,  0.1819915 ,  2.9804332 ,  0.3869134 , -0.7167761 ,\n",
       "               5.7764597 ,  1.8740349 , -3.5130906 ,  1.0220233 ,  0.7247858 ,\n",
       "               1.8887655 ,  1.1616298 , -0.4235304 , -1.6939894 , -1.5569478 ,\n",
       "               1.5428649 , -1.4365836 , -1.47585   ,  0.54336745,  0.51127154,\n",
       "              -0.76705366, -2.7818537 , -0.91379887, -0.62803173,  1.1633745 ,\n",
       "               1.4600508 , -0.7689695 , -0.73949164, -2.0142398 , -2.53515   ,\n",
       "              -1.0876409 , -1.0760648 ,  0.88362515,  0.19350344,  0.57777387,\n",
       "               0.81344175,  0.55337113,  0.33189377,  0.04273866, -1.4046973 ,\n",
       "               0.7894555 ,  0.689327  , -2.3222535 , -1.123299  ,  1.3397497 ,\n",
       "              -1.2713456 ,  1.5363681 ,  0.41544482, -5.241547  , -0.565663  ,\n",
       "               0.80133516, -0.22836371,  0.8427666 ,  0.59223473, -0.10645378,\n",
       "              -0.07417242, -1.9721868 , -0.18497124, -1.101394  ,  2.6109529 ,\n",
       "               1.1884167 , -2.6529121 , -2.2944603 ,  1.6442366 ,  2.6942022 ,\n",
       "              -0.8224927 , -0.46110037, -2.2531333 , -0.04751212, -0.12846315,\n",
       "               1.2458829 , -3.0889134 ,  2.728959  , -3.47276   , -0.22048414,\n",
       "              -3.899649  , -0.6012346 ,  0.8549094 ,  1.9099454 ,  2.5318358 ,\n",
       "               0.05773512, -2.285986  , -3.3307903 ,  1.1707244 , -1.458356  ,\n",
       "              -1.0285568 , -0.0887318 ,  2.0651426 , -3.1689193 ,  1.690688  ,\n",
       "              -0.78632504,  1.1327491 , -1.5782954 ,  0.7678119 ,  1.7819251 ,\n",
       "               2.8516972 ,  1.5186114 ,  3.0605843 ,  2.973563  , -0.69462353,\n",
       "               3.5838187 ,  1.0422338 , -2.067792  , -0.37790328, -3.299293  ,\n",
       "               1.1798851 ,  0.58892703, -2.4083903 ,  0.68857324,  1.290604  ,\n",
       "               0.6150833 , -0.20744362, -0.54975253, -0.1823999 , -1.0429491 ,\n",
       "              -0.10781836, -2.8461928 ,  0.96369565,  0.72548956, -0.8852339 ,\n",
       "              -3.094693  ,  1.8803668 , -2.1476884 ,  2.239673  , -1.047373  ,\n",
       "              -2.79882   , -0.4736952 ,  3.8171904 , -0.38482827, -0.05748722,\n",
       "               0.40085122, -2.0135758 , -0.08621638,  2.1603754 , -2.138344  ,\n",
       "              -2.1514597 , -1.0679857 , -0.3272528 ,  1.6100359 ,  1.5722194 ,\n",
       "               1.4517456 , -3.6679132 , -0.1412868 ,  1.1497692 ,  0.93544835,\n",
       "              -0.5219528 ,  2.492672  , -0.5276513 ,  1.4509792 , -1.488889  ,\n",
       "               0.96607465,  2.285282  , -1.1163107 , -1.9008113 , -0.9833659 ,\n",
       "              -0.9070903 , -1.9550954 , -0.7537067 ,  2.1962495 , -1.9492315 ,\n",
       "              -1.6480184 , -3.4850795 ,  0.6615908 ,  0.39717317,  0.3271387 ,\n",
       "               0.86406994,  0.7415114 ,  1.8234048 ,  0.22495303,  1.4737229 ,\n",
       "              -0.09378096, -0.08131947, -0.09433392, -2.2789433 , -1.1737403 ,\n",
       "              -0.80857456,  0.50617266,  0.7862005 ,  0.28066763, -0.5382806 ,\n",
       "               1.1742498 , -1.2544452 ,  0.14118588,  1.1785078 ,  1.6223959 ,\n",
       "               0.4771663 , -1.4758315 , -0.19568987, -1.7756683 , -0.2424419 ,\n",
       "               0.7046187 , -2.568539  , -0.4512353 , -0.36634508,  1.1124792 ,\n",
       "              -1.6426295 , -1.4414332 ,  0.09402519, -2.4891574 ,  2.6947315 ,\n",
       "               0.8167351 , -3.4982233 ,  1.4327557 , -0.6674216 , -0.02335643,\n",
       "               1.3224605 ,  1.140453  , -1.7767837 ,  1.4240011 ,  1.289875  ,\n",
       "               2.403714  ,  0.49801072, -2.07508   ,  0.31608185, -0.10705205,\n",
       "              -2.485875  ,  1.2763802 , -0.3483923 ,  0.26509973, -2.2967656 ,\n",
       "              -1.1325747 , -0.02409727,  2.7439551 ,  1.1447238 ,  0.43056864,\n",
       "               2.8835795 , -2.222265  , -0.3285963 ,  2.3552485 ,  1.8810462 ,\n",
       "               1.8728375 , -1.7828426 ,  0.17128503, -0.87489396, -0.7389945 ,\n",
       "              -0.6983423 ,  0.28789523,  1.2779651 , -0.3698851 , -2.1274512 ,\n",
       "               1.5489287 , -2.3170962 ,  0.05377185,  0.22600634,  2.835774  ,\n",
       "               1.3501761 , -2.6551104 , -4.9743247 , -0.25204632,  1.231469  ,\n",
       "              -2.6263363 ,  1.9276252 , -1.0250323 ,  0.3807567 ,  0.9840015 ,\n",
       "              -0.6322    ,  5.123913  ,  3.0900881 ,  2.3390255 ,  2.5190194 ,\n",
       "              -0.7857243 ,  0.14874196,  1.9973679 , -3.4849484 ,  0.04006949,\n",
       "               0.13662103, -0.15449789,  0.45238602, -2.2794583 ,  0.94019777,\n",
       "              -0.88855696,  1.8164935 , -2.585404  , -0.5464721 ,  2.1002948 ,\n",
       "               1.6658984 ,  0.17641486,  1.2663537 ,  0.73430634,  2.616517  ,\n",
       "              -0.65977556,  0.38750878,  1.5185963 , -0.8573958 ,  0.629831  ,\n",
       "               1.0331383 , -0.52679276, -0.85494906,  0.30646935, -1.6412032 ,\n",
       "               1.4028186 ,  0.6249397 , -1.5343575 , -2.1518245 ,  1.1137649 ],\n",
       "             dtype=float32)                                                    ],\n",
       "      dtype=object)"
      ]
     },
     "execution_count": 50,
     "metadata": {},
     "output_type": "execute_result"
    }
   ],
   "source": [
    "X_train"
   ]
  },
  {
   "cell_type": "code",
   "execution_count": 51,
   "id": "5757af3f",
   "metadata": {},
   "outputs": [],
   "source": [
    "#here our X_ytrain is NUmpy array in another numpy array so we have convert into 2d array \n",
    "#because our classifier is take a 2d array\n",
    "#so we use stack function of numpy\n",
    "import numpy as np\n",
    "X_train_2d = np.stack(X_train)\n",
    "X_test_2d = np.stack(X_test)"
   ]
  },
  {
   "cell_type": "code",
   "execution_count": 53,
   "id": "3d495750",
   "metadata": {},
   "outputs": [
    {
     "data": {
      "text/plain": [
       "array([[-2.0494754 ,  0.65270495, -1.6341592 , ..., -0.87387615,\n",
       "        -1.3969042 ,  1.5025567 ],\n",
       "       [-2.4557934 ,  0.32393122, -1.1731005 , ..., -1.2763274 ,\n",
       "        -2.0010169 ,  0.9979011 ],\n",
       "       [-1.8883454 ,  0.36689234, -2.119003  , ..., -1.1519905 ,\n",
       "        -1.1609759 ,  0.8115999 ],\n",
       "       ...,\n",
       "       [-1.8690879 ,  0.563252  , -1.8681753 , ..., -1.0942379 ,\n",
       "        -2.5086968 ,  0.5735208 ],\n",
       "       [-1.4903378 ,  1.0150518 , -1.9093577 , ..., -1.5914145 ,\n",
       "        -1.8194873 ,  1.4785866 ],\n",
       "       [-1.8187399 ,  0.8867698 , -1.8495626 , ..., -1.5343575 ,\n",
       "        -2.1518245 ,  1.1137649 ]], dtype=float32)"
      ]
     },
     "execution_count": 53,
     "metadata": {},
     "output_type": "execute_result"
    }
   ],
   "source": [
    "X_train_2d"
   ]
  },
  {
   "cell_type": "code",
   "execution_count": 55,
   "id": "92ccdc12",
   "metadata": {},
   "outputs": [],
   "source": [
    "#here we get error because MultinomialNB doese note take negative value and our array contains some negative value\n",
    "#so we tackel this problem using feature scalling\n",
    "from sklearn.preprocessing import MinMaxScaler\n",
    "sc = MinMaxScaler()\n",
    "X_train_2d = sc.fit_transform(X_train_2d)\n",
    "X_test_2d = sc.transform(X_test_2d) "
   ]
  },
  {
   "cell_type": "code",
   "execution_count": 56,
   "id": "15dcf4a0",
   "metadata": {},
   "outputs": [
    {
     "data": {
      "text/plain": [
       "array([[0.29837257, 0.52977526, 0.26857173, ..., 0.51127875, 0.4694417 ,\n",
       "        0.782691  ],\n",
       "       [0.2439056 , 0.49193597, 0.3034141 , ..., 0.45412898, 0.40130472,\n",
       "        0.7342135 ],\n",
       "       [0.31997207, 0.49688044, 0.23193191, ..., 0.4717853 , 0.49605173,\n",
       "        0.7163173 ],\n",
       "       ...,\n",
       "       [0.32255352, 0.51947993, 0.25088704, ..., 0.47998643, 0.34404427,\n",
       "        0.6934473 ],\n",
       "       [0.373325  , 0.57147855, 0.24777488, ..., 0.40938526, 0.4217792 ,\n",
       "        0.7803884 ],\n",
       "       [0.32930267, 0.5567143 , 0.25229362, ..., 0.41748756, 0.38429537,\n",
       "        0.74534345]], dtype=float32)"
      ]
     },
     "execution_count": 56,
     "metadata": {},
     "output_type": "execute_result"
    }
   ],
   "source": [
    "#now all values are positive ande between 0 nto 1\n",
    "X_train_2d"
   ]
  },
  {
   "cell_type": "code",
   "execution_count": 58,
   "id": "46324c3e",
   "metadata": {},
   "outputs": [
    {
     "name": "stdout",
     "output_type": "stream",
     "text": [
      "              precision    recall  f1-score   support\n",
      "\n",
      "           0       0.90      0.84      0.87      1029\n",
      "           1       0.84      0.90      0.87       971\n",
      "\n",
      "    accuracy                           0.87      2000\n",
      "   macro avg       0.87      0.87      0.87      2000\n",
      "weighted avg       0.87      0.87      0.87      2000\n",
      "\n"
     ]
    }
   ],
   "source": [
    "from sklearn.naive_bayes import MultinomialNB\n",
    "from sklearn.metrics import classification_report\n",
    "model = MultinomialNB()\n",
    "model.fit(X_train_2d,y_train)\n",
    "y_pred =model.predict(X_test_2d)\n",
    "print(classification_report(y_test,y_pred))"
   ]
  },
  {
   "cell_type": "code",
   "execution_count": 59,
   "id": "addba15c",
   "metadata": {},
   "outputs": [
    {
     "name": "stdout",
     "output_type": "stream",
     "text": [
      "              precision    recall  f1-score   support\n",
      "\n",
      "           0       0.91      0.74      0.82      1029\n",
      "           1       0.77      0.93      0.84       971\n",
      "\n",
      "    accuracy                           0.83      2000\n",
      "   macro avg       0.84      0.83      0.83      2000\n",
      "weighted avg       0.84      0.83      0.83      2000\n",
      "\n"
     ]
    }
   ],
   "source": [
    "#now trying Gaussian Naive bayes\n",
    "from sklearn.naive_bayes import GaussianNB\n",
    "model = GaussianNB()\n",
    "model.fit(X_train_2d,y_train)\n",
    "y_pred =model.predict(X_test_2d)\n",
    "print(classification_report(y_test,y_pred))"
   ]
  },
  {
   "cell_type": "code",
   "execution_count": 61,
   "id": "b996af96",
   "metadata": {},
   "outputs": [
    {
     "name": "stdout",
     "output_type": "stream",
     "text": [
      "              precision    recall  f1-score   support\n",
      "\n",
      "           0       0.96      0.96      0.96      1029\n",
      "           1       0.96      0.96      0.96       971\n",
      "\n",
      "    accuracy                           0.96      2000\n",
      "   macro avg       0.96      0.96      0.96      2000\n",
      "weighted avg       0.96      0.96      0.96      2000\n",
      "\n"
     ]
    }
   ],
   "source": [
    "#now trying KNN classifier\n",
    "from sklearn.neighbors import KNeighborsClassifier\n",
    "model = KNeighborsClassifier(n_neighbors=5)\n",
    "model.fit(X_train_2d,y_train)\n",
    "y_pred =model.predict(X_test_2d)\n",
    "print(classification_report(y_test,y_pred))"
   ]
  },
  {
   "cell_type": "markdown",
   "id": "08730410",
   "metadata": {},
   "source": [
    "here the conclusion is KNN works better then other algorithm because here dimension is low in word embedding which is 300 dimension"
   ]
  },
  {
   "cell_type": "markdown",
   "id": "51b58940",
   "metadata": {},
   "source": [
    "# Exercise"
   ]
  },
  {
   "cell_type": "code",
   "execution_count": 123,
   "id": "7f321258",
   "metadata": {},
   "outputs": [
    {
     "data": {
      "text/html": [
       "<div>\n",
       "<style scoped>\n",
       "    .dataframe tbody tr th:only-of-type {\n",
       "        vertical-align: middle;\n",
       "    }\n",
       "\n",
       "    .dataframe tbody tr th {\n",
       "        vertical-align: top;\n",
       "    }\n",
       "\n",
       "    .dataframe thead th {\n",
       "        text-align: right;\n",
       "    }\n",
       "</style>\n",
       "<table border=\"1\" class=\"dataframe\">\n",
       "  <thead>\n",
       "    <tr style=\"text-align: right;\">\n",
       "      <th></th>\n",
       "      <th>short_description</th>\n",
       "      <th>headline</th>\n",
       "      <th>date</th>\n",
       "      <th>link</th>\n",
       "      <th>authors</th>\n",
       "      <th>category</th>\n",
       "    </tr>\n",
       "  </thead>\n",
       "  <tbody>\n",
       "    <tr>\n",
       "      <th>0</th>\n",
       "      <td>She left her husband. He killed their children...</td>\n",
       "      <td>There Were 2 Mass Shootings In Texas Last Week...</td>\n",
       "      <td>2018-05-26</td>\n",
       "      <td>https://www.huffingtonpost.com/entry/texas-ama...</td>\n",
       "      <td>Melissa Jeltsen</td>\n",
       "      <td>CRIME</td>\n",
       "    </tr>\n",
       "    <tr>\n",
       "      <th>1</th>\n",
       "      <td>Of course it has a song.</td>\n",
       "      <td>Will Smith Joins Diplo And Nicky Jam For The 2...</td>\n",
       "      <td>2018-05-26</td>\n",
       "      <td>https://www.huffingtonpost.com/entry/will-smit...</td>\n",
       "      <td>Andy McDonald</td>\n",
       "      <td>ENTERTAINMENT</td>\n",
       "    </tr>\n",
       "    <tr>\n",
       "      <th>2</th>\n",
       "      <td>The actor and his longtime girlfriend Anna Ebe...</td>\n",
       "      <td>Hugh Grant Marries For The First Time At Age 57</td>\n",
       "      <td>2018-05-26</td>\n",
       "      <td>https://www.huffingtonpost.com/entry/hugh-gran...</td>\n",
       "      <td>Ron Dicker</td>\n",
       "      <td>ENTERTAINMENT</td>\n",
       "    </tr>\n",
       "    <tr>\n",
       "      <th>3</th>\n",
       "      <td>The actor gives Dems an ass-kicking for not fi...</td>\n",
       "      <td>Jim Carrey Blasts 'Castrato' Adam Schiff And D...</td>\n",
       "      <td>2018-05-26</td>\n",
       "      <td>https://www.huffingtonpost.com/entry/jim-carre...</td>\n",
       "      <td>Ron Dicker</td>\n",
       "      <td>ENTERTAINMENT</td>\n",
       "    </tr>\n",
       "    <tr>\n",
       "      <th>4</th>\n",
       "      <td>The \"Dietland\" actress said using the bags is ...</td>\n",
       "      <td>Julianna Margulies Uses Donald Trump Poop Bags...</td>\n",
       "      <td>2018-05-26</td>\n",
       "      <td>https://www.huffingtonpost.com/entry/julianna-...</td>\n",
       "      <td>Ron Dicker</td>\n",
       "      <td>ENTERTAINMENT</td>\n",
       "    </tr>\n",
       "  </tbody>\n",
       "</table>\n",
       "</div>"
      ],
      "text/plain": [
       "                                   short_description  \\\n",
       "0  She left her husband. He killed their children...   \n",
       "1                           Of course it has a song.   \n",
       "2  The actor and his longtime girlfriend Anna Ebe...   \n",
       "3  The actor gives Dems an ass-kicking for not fi...   \n",
       "4  The \"Dietland\" actress said using the bags is ...   \n",
       "\n",
       "                                            headline       date  \\\n",
       "0  There Were 2 Mass Shootings In Texas Last Week... 2018-05-26   \n",
       "1  Will Smith Joins Diplo And Nicky Jam For The 2... 2018-05-26   \n",
       "2    Hugh Grant Marries For The First Time At Age 57 2018-05-26   \n",
       "3  Jim Carrey Blasts 'Castrato' Adam Schiff And D... 2018-05-26   \n",
       "4  Julianna Margulies Uses Donald Trump Poop Bags... 2018-05-26   \n",
       "\n",
       "                                                link          authors  \\\n",
       "0  https://www.huffingtonpost.com/entry/texas-ama...  Melissa Jeltsen   \n",
       "1  https://www.huffingtonpost.com/entry/will-smit...    Andy McDonald   \n",
       "2  https://www.huffingtonpost.com/entry/hugh-gran...       Ron Dicker   \n",
       "3  https://www.huffingtonpost.com/entry/jim-carre...       Ron Dicker   \n",
       "4  https://www.huffingtonpost.com/entry/julianna-...       Ron Dicker   \n",
       "\n",
       "        category  \n",
       "0          CRIME  \n",
       "1  ENTERTAINMENT  \n",
       "2  ENTERTAINMENT  \n",
       "3  ENTERTAINMENT  \n",
       "4  ENTERTAINMENT  "
      ]
     },
     "execution_count": 123,
     "metadata": {},
     "output_type": "execute_result"
    }
   ],
   "source": [
    "df = pd.read_json(\"News_Category_Dataset.json\",lines=True)\n",
    "df.head()"
   ]
  },
  {
   "cell_type": "code",
   "execution_count": 124,
   "id": "d3017f5e",
   "metadata": {},
   "outputs": [
    {
     "data": {
      "text/plain": [
       "(124989, 6)"
      ]
     },
     "execution_count": 124,
     "metadata": {},
     "output_type": "execute_result"
    }
   ],
   "source": [
    "df.shape"
   ]
  },
  {
   "cell_type": "code",
   "execution_count": 125,
   "id": "8634af2c",
   "metadata": {},
   "outputs": [],
   "source": [
    "df = df.sample(2000,random_state=2022)"
   ]
  },
  {
   "cell_type": "code",
   "execution_count": 126,
   "id": "3fb6def7",
   "metadata": {},
   "outputs": [
    {
     "data": {
      "text/plain": [
       "(2000, 6)"
      ]
     },
     "execution_count": 126,
     "metadata": {},
     "output_type": "execute_result"
    }
   ],
   "source": [
    "df.shape"
   ]
  },
  {
   "cell_type": "code",
   "execution_count": 144,
   "id": "21d7bb10",
   "metadata": {},
   "outputs": [],
   "source": [
    "def preprocess(text):\n",
    "    clean_text = []\n",
    "    doc = nlp(text);\n",
    "    for token in doc:\n",
    "        if not token.is_punct and not token.is_stop:\n",
    "            clean_text.append(token.lemma_)\n",
    "    return \" \".join(clean_text)"
   ]
  },
  {
   "cell_type": "code",
   "execution_count": 128,
   "id": "4eb3d827",
   "metadata": {},
   "outputs": [],
   "source": [
    "df['preprocessed'] = df.short_description.apply(preprocess)"
   ]
  },
  {
   "cell_type": "code",
   "execution_count": 129,
   "id": "38c8001f",
   "metadata": {},
   "outputs": [
    {
     "data": {
      "text/plain": [
       "short_description    0\n",
       "headline             0\n",
       "date                 0\n",
       "link                 0\n",
       "authors              0\n",
       "category             0\n",
       "preprocessed         0\n",
       "dtype: int64"
      ]
     },
     "execution_count": 129,
     "metadata": {},
     "output_type": "execute_result"
    }
   ],
   "source": [
    "df.isnull().sum()"
   ]
  },
  {
   "cell_type": "code",
   "execution_count": 130,
   "id": "3e5accc6",
   "metadata": {},
   "outputs": [],
   "source": [
    "df['vector'] = df.preprocessed.apply(lambda x: nlp(x).vector)"
   ]
  },
  {
   "cell_type": "code",
   "execution_count": 131,
   "id": "5a808e2d",
   "metadata": {},
   "outputs": [
    {
     "data": {
      "text/plain": [
       "short_description    0\n",
       "headline             0\n",
       "date                 0\n",
       "link                 0\n",
       "authors              0\n",
       "category             0\n",
       "preprocessed         0\n",
       "vector               0\n",
       "dtype: int64"
      ]
     },
     "execution_count": 131,
     "metadata": {},
     "output_type": "execute_result"
    }
   ],
   "source": [
    "df.isnull().sum()"
   ]
  },
  {
   "cell_type": "code",
   "execution_count": 132,
   "id": "8f28029f",
   "metadata": {},
   "outputs": [
    {
     "data": {
      "text/plain": [
       "<AxesSubplot:xlabel='category', ylabel='count'>"
      ]
     },
     "execution_count": 132,
     "metadata": {},
     "output_type": "execute_result"
    },
    {
     "data": {
      "image/png": "[encoded data removed]",
      "text/plain": [
       "<Figure size 432x288 with 1 Axes>"
      ]
     },
     "metadata": {
      "needs_background": "light"
     },
     "output_type": "display_data"
    }
   ],
   "source": [
    "import seaborn as sns\n",
    "sns.countplot(x=\"category\",data=df)"
   ]
  },
  {
   "cell_type": "code",
   "execution_count": 133,
   "id": "7528b076",
   "metadata": {},
   "outputs": [
    {
     "data": {
      "text/plain": [
       "POLITICS          534\n",
       "ENTERTAINMENT     220\n",
       "HEALTHY LIVING    116\n",
       "QUEER VOICES       80\n",
       "SPORTS             70\n",
       "BUSINESS           69\n",
       "PARENTS            68\n",
       "BLACK VOICES       68\n",
       "WOMEN              67\n",
       "COMEDY             61\n",
       "THE WORLDPOST      57\n",
       "MEDIA              45\n",
       "STYLE              44\n",
       "CRIME              44\n",
       "WEIRD NEWS         43\n",
       "GREEN              40\n",
       "RELIGION           39\n",
       "WORLDPOST          38\n",
       "WORLD NEWS         37\n",
       "FIFTY              34\n",
       "TASTE              31\n",
       "TRAVEL             30\n",
       "IMPACT             28\n",
       "LATINO VOICES      21\n",
       "SCIENCE            20\n",
       "TECH               19\n",
       "GOOD NEWS          18\n",
       "ARTS               17\n",
       "ARTS & CULTURE     17\n",
       "EDUCATION          13\n",
       "COLLEGE            12\n",
       "Name: category, dtype: int64"
      ]
     },
     "execution_count": 133,
     "metadata": {},
     "output_type": "execute_result"
    }
   ],
   "source": [
    "df.category.value_counts()"
   ]
  },
  {
   "cell_type": "code",
   "execution_count": 134,
   "id": "e04b8c04",
   "metadata": {},
   "outputs": [],
   "source": [
    "df['num_category'] = df.category.map({\n",
    "    'POLITICS':0,\n",
    "    'ENTERTAINMENT':1,\n",
    "    'WOMEN':2,\n",
    "    'HEALTHY LIVING':3,\n",
    "    'QUEER VOICES':4,\n",
    "    'SPORTS':5,\n",
    "    'BLACK VOICES':6,\n",
    "    'BUSINESS':7,\n",
    "    'COMEDY':8,\n",
    "    'THE WORLDPOST':9,\n",
    "    'GREEN':10,\n",
    "    'WORLD NEWS':11,\n",
    "    'PARENTS':12,\n",
    "    'ARTS & CULTURE':13,\n",
    "    'CRIME':14,\n",
    "    'WEIRD NEWS':15,\n",
    "    'MEDIA':16,\n",
    "    'TASTE':17,\n",
    "    'SCIENCE':18,\n",
    "    'RELIGION':19,\n",
    "    'EDUCATION':20,\n",
    "    'TRAVEL':21,\n",
    "    'LATINO VOICES':22,\n",
    "    'WORLDPOST':23,\n",
    "    'TECH':24,\n",
    "    'COLLEGE':25,\n",
    "    'IMPACT':26,\n",
    "    'GOOD NEWS':27,\n",
    "    'FIFTY':28,\n",
    "    'ARTS':29,\n",
    "    'STYLE':30\n",
    "})"
   ]
  },
  {
   "cell_type": "code",
   "execution_count": 135,
   "id": "52df839a",
   "metadata": {},
   "outputs": [
    {
     "data": {
      "text/html": [
       "<div>\n",
       "<style scoped>\n",
       "    .dataframe tbody tr th:only-of-type {\n",
       "        vertical-align: middle;\n",
       "    }\n",
       "\n",
       "    .dataframe tbody tr th {\n",
       "        vertical-align: top;\n",
       "    }\n",
       "\n",
       "    .dataframe thead th {\n",
       "        text-align: right;\n",
       "    }\n",
       "</style>\n",
       "<table border=\"1\" class=\"dataframe\">\n",
       "  <thead>\n",
       "    <tr style=\"text-align: right;\">\n",
       "      <th></th>\n",
       "      <th>short_description</th>\n",
       "      <th>headline</th>\n",
       "      <th>date</th>\n",
       "      <th>link</th>\n",
       "      <th>authors</th>\n",
       "      <th>category</th>\n",
       "      <th>preprocessed</th>\n",
       "      <th>vector</th>\n",
       "      <th>num_category</th>\n",
       "    </tr>\n",
       "  </thead>\n",
       "  <tbody>\n",
       "    <tr>\n",
       "      <th>106732</th>\n",
       "      <td>Are smaller class sizes the key to breathing n...</td>\n",
       "      <td>By Trying to Reduce Class Sizes, We're Solving...</td>\n",
       "      <td>2014-11-14</td>\n",
       "      <td>https://www.huffingtonpost.com/entry/by-trying...</td>\n",
       "      <td>Sam Chaltain, ContributorD.C.-based writer and...</td>\n",
       "      <td>EDUCATION</td>\n",
       "      <td>smaller class sizes key breathing new life tod...</td>\n",
       "      <td>[0.38936618, 1.8236456, -1.2492259, 0.3860389,...</td>\n",
       "      <td>20</td>\n",
       "    </tr>\n",
       "    <tr>\n",
       "      <th>27763</th>\n",
       "      <td>The series, marketed largely to a young adult ...</td>\n",
       "      <td>13 Reasons Why Parents Should Watch The Netfli...</td>\n",
       "      <td>2017-05-02</td>\n",
       "      <td>https://www.huffingtonpost.com/entry/13-reason...</td>\n",
       "      <td>Sheela Raja, PhD, ContributorClinical Psycholo...</td>\n",
       "      <td>HEALTHY LIVING</td>\n",
       "      <td>series marketed largely young adult audience l...</td>\n",
       "      <td>[-0.089584514, 1.3277062, -1.7515682, -0.04971...</td>\n",
       "      <td>3</td>\n",
       "    </tr>\n",
       "    <tr>\n",
       "      <th>113239</th>\n",
       "      <td></td>\n",
       "      <td>10 Best-Paying Jobs for High School Graduates</td>\n",
       "      <td>2014-08-31</td>\n",
       "      <td>https://www.huffingtonpost.com/entry/10-bestpa...</td>\n",
       "      <td></td>\n",
       "      <td>BUSINESS</td>\n",
       "      <td></td>\n",
       "      <td>[0.0, 0.0, 0.0, 0.0, 0.0, 0.0, 0.0, 0.0, 0.0, ...</td>\n",
       "      <td>7</td>\n",
       "    </tr>\n",
       "    <tr>\n",
       "      <th>106761</th>\n",
       "      <td></td>\n",
       "      <td>Jane Byrne, Chicago's First Female Mayor, Dead...</td>\n",
       "      <td>2014-11-14</td>\n",
       "      <td>https://www.huffingtonpost.com/entry/jane-byrn...</td>\n",
       "      <td>Joseph Erbentraut</td>\n",
       "      <td>POLITICS</td>\n",
       "      <td></td>\n",
       "      <td>[0.0, 0.0, 0.0, 0.0, 0.0, 0.0, 0.0, 0.0, 0.0, ...</td>\n",
       "      <td>0</td>\n",
       "    </tr>\n",
       "    <tr>\n",
       "      <th>114677</th>\n",
       "      <td>The sharing economy sector - where people with...</td>\n",
       "      <td>Sharing Economy Leaders Will Be the New \"Demon...</td>\n",
       "      <td>2014-08-15</td>\n",
       "      <td>https://www.huffingtonpost.com/entry/sharing-e...</td>\n",
       "      <td>Bill Shireman, ContributorPresident and CEO of...</td>\n",
       "      <td>BUSINESS</td>\n",
       "      <td>sharing economy sector people average holdings...</td>\n",
       "      <td>[-0.86401635, -0.39874905, -2.5331602, -0.4586...</td>\n",
       "      <td>7</td>\n",
       "    </tr>\n",
       "  </tbody>\n",
       "</table>\n",
       "</div>"
      ],
      "text/plain": [
       "                                        short_description  \\\n",
       "106732  Are smaller class sizes the key to breathing n...   \n",
       "27763   The series, marketed largely to a young adult ...   \n",
       "113239                                                      \n",
       "106761                                                      \n",
       "114677  The sharing economy sector - where people with...   \n",
       "\n",
       "                                                 headline       date  \\\n",
       "106732  By Trying to Reduce Class Sizes, We're Solving... 2014-11-14   \n",
       "27763   13 Reasons Why Parents Should Watch The Netfli... 2017-05-02   \n",
       "113239      10 Best-Paying Jobs for High School Graduates 2014-08-31   \n",
       "106761  Jane Byrne, Chicago's First Female Mayor, Dead... 2014-11-14   \n",
       "114677  Sharing Economy Leaders Will Be the New \"Demon... 2014-08-15   \n",
       "\n",
       "                                                     link  \\\n",
       "106732  https://www.huffingtonpost.com/entry/by-trying...   \n",
       "27763   https://www.huffingtonpost.com/entry/13-reason...   \n",
       "113239  https://www.huffingtonpost.com/entry/10-bestpa...   \n",
       "106761  https://www.huffingtonpost.com/entry/jane-byrn...   \n",
       "114677  https://www.huffingtonpost.com/entry/sharing-e...   \n",
       "\n",
       "                                                  authors        category  \\\n",
       "106732  Sam Chaltain, ContributorD.C.-based writer and...       EDUCATION   \n",
       "27763   Sheela Raja, PhD, ContributorClinical Psycholo...  HEALTHY LIVING   \n",
       "113239                                                           BUSINESS   \n",
       "106761                                  Joseph Erbentraut        POLITICS   \n",
       "114677  Bill Shireman, ContributorPresident and CEO of...        BUSINESS   \n",
       "\n",
       "                                             preprocessed  \\\n",
       "106732  smaller class sizes key breathing new life tod...   \n",
       "27763   series marketed largely young adult audience l...   \n",
       "113239                                                      \n",
       "106761                                                      \n",
       "114677  sharing economy sector people average holdings...   \n",
       "\n",
       "                                                   vector  num_category  \n",
       "106732  [0.38936618, 1.8236456, -1.2492259, 0.3860389,...            20  \n",
       "27763   [-0.089584514, 1.3277062, -1.7515682, -0.04971...             3  \n",
       "113239  [0.0, 0.0, 0.0, 0.0, 0.0, 0.0, 0.0, 0.0, 0.0, ...             7  \n",
       "106761  [0.0, 0.0, 0.0, 0.0, 0.0, 0.0, 0.0, 0.0, 0.0, ...             0  \n",
       "114677  [-0.86401635, -0.39874905, -2.5331602, -0.4586...             7  "
      ]
     },
     "execution_count": 135,
     "metadata": {},
     "output_type": "execute_result"
    }
   ],
   "source": [
    "df.head()"
   ]
  },
  {
   "cell_type": "code",
   "execution_count": 136,
   "id": "061a560d",
   "metadata": {},
   "outputs": [],
   "source": [
    "X_train,X_test,y_train,y_test = train_test_split(df.vector,df.num_category,test_size=0.2,random_state=10)"
   ]
  },
  {
   "cell_type": "code",
   "execution_count": 137,
   "id": "c4c17af7",
   "metadata": {},
   "outputs": [
    {
     "data": {
      "text/plain": [
       "46118     [-0.27321, -0.84408, 5.4898, -1.3286, 2.1451, ...\n",
       "33799     [1.5864499, 2.8117924, -2.4662776, 2.5489824, ...\n",
       "51185     [-0.17283143, -2.1347616, -1.5885986, 0.883360...\n",
       "124909    [0.29490772, 1.6437092, -3.0657792, 0.64427, 1...\n",
       "10519     [0.24931593, 0.74209005, -1.3894953, 1.7163559...\n",
       "                                ...                        \n",
       "83207     [-0.29459, -0.5515233, -0.34390497, -0.5420599...\n",
       "114519    [0.0, 0.0, 0.0, 0.0, 0.0, 0.0, 0.0, 0.0, 0.0, ...\n",
       "53512     [-0.5378, 0.8461, -1.54955, 1.8047, 1.082, 1.0...\n",
       "105799    [-0.985098, 0.1958759, -2.6621938, 1.1634419, ...\n",
       "60248     [-1.33996, 0.6835019, -2.0858998, 2.291264, 2....\n",
       "Name: vector, Length: 1600, dtype: object"
      ]
     },
     "execution_count": 137,
     "metadata": {},
     "output_type": "execute_result"
    }
   ],
   "source": [
    "X_train"
   ]
  },
  {
   "cell_type": "code",
   "execution_count": 138,
   "id": "9f01a804",
   "metadata": {},
   "outputs": [
    {
     "data": {
      "text/plain": [
       "46118      1\n",
       "33799      3\n",
       "51185     21\n",
       "124909    12\n",
       "10519     15\n",
       "          ..\n",
       "83207      1\n",
       "114519    30\n",
       "53512      1\n",
       "105799     0\n",
       "60248      0\n",
       "Name: num_category, Length: 1600, dtype: int64"
      ]
     },
     "execution_count": 138,
     "metadata": {},
     "output_type": "execute_result"
    }
   ],
   "source": [
    "y_train"
   ]
  },
  {
   "cell_type": "code",
   "execution_count": 139,
   "id": "f4187a1f",
   "metadata": {},
   "outputs": [],
   "source": [
    "X_train = np.stack(X_train)"
   ]
  },
  {
   "cell_type": "code",
   "execution_count": 140,
   "id": "0f301e28",
   "metadata": {},
   "outputs": [],
   "source": [
    "X_test = np.stack(X_test)"
   ]
  },
  {
   "cell_type": "code",
   "execution_count": 141,
   "id": "21d6c0d8",
   "metadata": {},
   "outputs": [],
   "source": [
    "sc = MinMaxScaler()\n",
    "scalled_X_train = sc.fit_transform(X_train)"
   ]
  },
  {
   "cell_type": "code",
   "execution_count": 142,
   "id": "118aa6db",
   "metadata": {},
   "outputs": [],
   "source": [
    "scalled_X_test = sc.fit_transform(X_test)"
   ]
  },
  {
   "cell_type": "code",
   "execution_count": 143,
   "id": "f4d53c65",
   "metadata": {},
   "outputs": [
    {
     "name": "stdout",
     "output_type": "stream",
     "text": [
      "              precision    recall  f1-score   support\n",
      "\n",
      "           0       0.32      0.89      0.47       107\n",
      "           1       0.19      0.46      0.27        41\n",
      "           2       0.00      0.00      0.00        16\n",
      "           3       0.00      0.00      0.00        25\n",
      "           4       0.00      0.00      0.00        13\n",
      "           5       0.00      0.00      0.00        10\n",
      "           6       0.00      0.00      0.00         9\n",
      "           7       0.00      0.00      0.00        17\n",
      "           8       0.00      0.00      0.00        22\n",
      "           9       0.00      0.00      0.00        11\n",
      "          10       0.00      0.00      0.00         8\n",
      "          11       0.00      0.00      0.00        11\n",
      "          12       0.00      0.00      0.00        10\n",
      "          13       0.00      0.00      0.00         2\n",
      "          14       0.00      0.00      0.00         8\n",
      "          15       0.00      0.00      0.00         8\n",
      "          16       0.00      0.00      0.00        12\n",
      "          17       0.00      0.00      0.00        10\n",
      "          18       0.00      0.00      0.00         5\n",
      "          19       0.00      0.00      0.00         8\n",
      "          20       0.00      0.00      0.00         1\n",
      "          21       0.00      0.00      0.00         6\n",
      "          22       0.00      0.00      0.00         2\n",
      "          23       0.00      0.00      0.00         6\n",
      "          24       0.00      0.00      0.00         6\n",
      "          25       0.00      0.00      0.00         2\n",
      "          26       0.00      0.00      0.00         5\n",
      "          28       0.00      0.00      0.00         8\n",
      "          29       0.00      0.00      0.00         4\n",
      "          30       0.00      0.00      0.00         7\n",
      "\n",
      "    accuracy                           0.28       400\n",
      "   macro avg       0.02      0.05      0.02       400\n",
      "weighted avg       0.10      0.28      0.15       400\n",
      "\n"
     ]
    },
    {
     "name": "stderr",
     "output_type": "stream",
     "text": [
      "/Users/sachin/opt/miniconda3/envs/tensorflow/lib/python3.9/site-packages/sklearn/metrics/_classification.py:1318: UndefinedMetricWarning: Precision and F-score are ill-defined and being set to 0.0 in labels with no predicted samples. Use `zero_division` parameter to control this behavior.\n",
      "  _warn_prf(average, modifier, msg_start, len(result))\n",
      "/Users/sachin/opt/miniconda3/envs/tensorflow/lib/python3.9/site-packages/sklearn/metrics/_classification.py:1318: UndefinedMetricWarning: Precision and F-score are ill-defined and being set to 0.0 in labels with no predicted samples. Use `zero_division` parameter to control this behavior.\n",
      "  _warn_prf(average, modifier, msg_start, len(result))\n",
      "/Users/sachin/opt/miniconda3/envs/tensorflow/lib/python3.9/site-packages/sklearn/metrics/_classification.py:1318: UndefinedMetricWarning: Precision and F-score are ill-defined and being set to 0.0 in labels with no predicted samples. Use `zero_division` parameter to control this behavior.\n",
      "  _warn_prf(average, modifier, msg_start, len(result))\n"
     ]
    }
   ],
   "source": [
    "clf = MultinomialNB()\n",
    "clf.fit(scalled_X_train,y_train)\n",
    "y_pred = clf.predict(scalled_X_test)\n",
    "print(classification_report(y_test,y_pred))"
   ]
  },
  {
   "cell_type": "code",
   "execution_count": null,
   "id": "0d128d4f",
   "metadata": {},
   "outputs": [],
   "source": []
  }
 ],
 "metadata": {
  "kernelspec": {
   "display_name": "Python(tensorflow)",
   "language": "python",
   "name": "tensorflow"
  },
  "language_info": {
   "codemirror_mode": {
    "name": "ipython",
    "version": 3
   },
   "file_extension": ".py",
   "mimetype": "text/x-python",
   "name": "python",
   "nbconvert_exporter": "python",
   "pygments_lexer": "ipython3",
   "version": "3.9.12"
  }
 },
 "nbformat": 4,
 "nbformat_minor": 5
}
